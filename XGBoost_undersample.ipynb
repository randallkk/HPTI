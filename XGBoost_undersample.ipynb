{
 "metadata": {
  "language_info": {
   "codemirror_mode": {
    "name": "ipython",
    "version": 3
   },
   "file_extension": ".py",
   "mimetype": "text/x-python",
   "name": "python",
   "nbconvert_exporter": "python",
   "pygments_lexer": "ipython3",
   "version": "3.8.3-final"
  },
  "orig_nbformat": 2,
  "kernelspec": {
   "name": "python3",
   "display_name": "Python 3"
  }
 },
 "nbformat": 4,
 "nbformat_minor": 2,
 "cells": [
  {
   "source": [
    "# (MBTI 별 Data 모으기: 생략) MBTI file 불러오기"
   ],
   "cell_type": "markdown",
   "metadata": {}
  },
  {
   "cell_type": "code",
   "execution_count": 7,
   "metadata": {},
   "outputs": [],
   "source": [
    "import os\n",
    "import pandas as pd\n",
    "import numpy as np\n",
    "%matplotlib inline\n",
    "import matplotlib.pyplot as plt\n",
    "import re\n",
    "import urllib.request\n",
    "from collections import Counter"
   ]
  },
  {
   "cell_type": "code",
   "execution_count": 8,
   "metadata": {},
   "outputs": [],
   "source": [
    "mbti=pd.read_csv('.\\data\\\\training\\\\mbti.csv')"
   ]
  },
  {
   "source": [
    "# UnderSampling"
   ],
   "cell_type": "markdown",
   "metadata": {}
  },
  {
   "cell_type": "code",
   "execution_count": 9,
   "metadata": {},
   "outputs": [
    {
     "output_type": "stream",
     "name": "stdout",
     "text": [
      "0       ENFJ\n1       ENFJ\n2       ENFJ\n3       ENFJ\n4       ENFJ\n        ... \n8670    ISTP\n8671    ISTP\n8672    ISTP\n8673    ISTP\n8674    ISTP\nName: type, Length: 8675, dtype: object\n[['ENFJ']\n ['ENFJ']\n ['ENFJ']\n ...\n ['ISTP']\n ['ISTP']\n ['ISTP']]\n"
     ]
    },
    {
     "output_type": "execute_result",
     "data": {
      "text/plain": [
       "Counter({'ENFJ': 39,\n",
       "         'ENFP': 39,\n",
       "         'ENTJ': 39,\n",
       "         'ENTP': 39,\n",
       "         'ESFJ': 39,\n",
       "         'ESFP': 39,\n",
       "         'ESTJ': 39,\n",
       "         'ESTP': 39,\n",
       "         'INFJ': 39,\n",
       "         'INFP': 39,\n",
       "         'INTJ': 39,\n",
       "         'INTP': 39,\n",
       "         'ISFJ': 39,\n",
       "         'ISFP': 39,\n",
       "         'ISTJ': 39,\n",
       "         'ISTP': 39})"
      ]
     },
     "metadata": {},
     "execution_count": 9
    }
   ],
   "source": [
    "from imblearn.under_sampling import RandomUnderSampler\n",
    "\n",
    "X_data = mbti['posts']\n",
    "X = X_data.values.reshape(-1, 1)\n",
    "\n",
    "y_data = mbti['type']\n",
    "print(y_data)\n",
    "y = y_data.values.reshape(-1, 1)\n",
    "print(y)\n",
    "\n",
    "X_resampled, y_resampled = RandomUnderSampler(random_state=0).fit_sample(X, y)\n",
    "#format(Counter(y_resampled))\n",
    "X_resampled #ndarray\n",
    "Counter(y_resampled)\n"
   ]
  },
  {
   "source": [
    "# tokenize and stemming"
   ],
   "cell_type": "markdown",
   "metadata": {}
  },
  {
   "cell_type": "code",
   "execution_count": 10,
   "metadata": {},
   "outputs": [
    {
     "output_type": "stream",
     "name": "stdout",
     "text": [
      "normalize 시작\nnormalize 완료\n"
     ]
    }
   ],
   "source": [
    "X_data = X_resampled.ravel()\n",
    "y_data = y_resampled\n",
    "\n",
    "\n",
    "print(\"normalize 시작\")\n",
    "normalized_text = []\n",
    "for sentence in X_data: #for sentence in X_data.ravel()\n",
    "    rm_urls = re.sub(r'http[s]?://\\S+', '', sentence)\n",
    "    clean_sentence = re.sub('[^A-Za-z\\s]+', '', rm_urls.lower())\n",
    "    normalized_text.append(clean_sentence)\n",
    "X_data = normalized_text\n",
    "print(\"normalize 완료\")"
   ]
  },
  {
   "cell_type": "code",
   "execution_count": 11,
   "metadata": {},
   "outputs": [],
   "source": [
    "import nltk\n",
    "import gc\n",
    "# nltk.download('punkt')\n",
    "# nltk.download('wordnet')\n",
    "from nltk import sent_tokenize, word_tokenize\n",
    "from nltk.stem import PorterStemmer\n",
    "from nltk.corpus import stopwords\n",
    "\n",
    "import numpy as np\n",
    "from sklearn.feature_extraction.text import CountVectorizer\n",
    "from sklearn.feature_extraction.text import TfidfVectorizer"
   ]
  },
  {
   "cell_type": "code",
   "execution_count": 12,
   "metadata": {},
   "outputs": [
    {
     "output_type": "stream",
     "name": "stdout",
     "text": [
      "stemming 시작\n",
      "stemming 완료\n",
      "['want', 'know', 'feel', 'intp', 'actual', 'intp', 'idea', 'intp', 'havent', 'met', 'anyten', 'million', 'hug', 'mani', 'amaz', 'convers', 'held', 'absenc', 'vow', 'never', 'leav', 'realli', 'lot', 'written', 'recent', 'terriblyfacebook', 'way', 'emphas', 'other', 'error', 'cognit', 'becom', 'obviou', 'lead', 'wonder', 'im', 'friend', 'mani', 'peopl', 'rememb', 'peopl', 'moremmmmhm', 'ive', 'wonder', 'late', 'ei', 'think', 'definit', 'much', 'needwant', 'compani', 'around', 'regardless', 'time', 'togeth', 'spenthahah', 'love', 'think', 'that', 'go', 'topic', 'excel', 'convers', 'thank', 'particip', 'indulg', 'interest', 'enlighteningsomeon', 'creat', 'chitchat', 'thread', 'enfj', 'forum', 'enfj', 'vigilantli', 'await', 'type', 'wander', 'start', 'conversationswa', 'enfp', 'ive', 'caught', 'mani', 'text', 'look', 'around', 'shini', 'object', 'give', 'midsyl', 'mm', 'hmm', 'alway', 'mani', 'andi', 'tire', 'extravert', 'energysap', 'sentiment', 'arent', 'batshit', 'loud', 'outgo', 'even', 'dryon', 'topic', 'guy', 'find', 'get', 'better', 'extrovert', 'onlinealso', 'iamken', 'one', 'yall', 'sure', 'type', 'lot', 'think', 'introvert', 'thing', 'rather', 'fi', 'thing', 'though', 'intp', 'fe', 'way', 'intp', 'infp', 'actual', 'haveb', 'contrari', 'think', 'initi', 'interact', 'begin', 'selffocu', 'realli', 'depend', 'im', 'feel', 'though', 'im', 'insecur', 'kind', 'day', 'someon', 'isth', 'hand', 'yesi', 'attribut', 'credibl', 'advic', 'follow', 'experi', 'date', 'hous', 'keep', 'intp', 'fed', 'littl', 'longer', 'two', 'year', 'find', 'intp', 'rareyour', 'abil', 'candid', 'refresh', 'thing', 'unhealthi', 'usi', 'clarifi', 'rambl', 'lie', 'mean', 'less', 'valid', 'next', 'less', 'reliabl', 'misconstru', 'intp', 'differ', 'other', 'mean', 'vastli', 'aeffi', 'iamtp', 'interest', 'thought', 'intp', 'behav', 'like', 'infp', 'think', 'ive', 'seen', 'happen', 'intp', 'current', 'think', 'intp', 'differ', 'fromth', 'cognit', 'function', 'test', 'differ', 'mbti', 'magicwhoa', 'much', 'happen', 'day', 'want', 'take', 'opportun', 'make', 'observ', 'page', 'sinc', 'feel', 'like', 'miss', 'thismight', 'enneagram', 'type', 'thing', 'relat', 'im', 'enfj', 'think', 'ask', 'make', 'enfj', 'happi', 'peopl', 'make', 'us', 'happyhistoir', 'soo', 'unfold', 'make', 'move', 'yet', 'peopl', 'ha', 'guarante', 'like', 'quieter', 'usual', 'also', 'dont', 'confus', 'introvers', 'lack', 'confid', 'samei', 'think', 'odd', 'behavior', 'enfj', 'behavior', 'your', 'describ', 'sound', 'introvert', 'mayb', 'he', 'intimidatedi', 'cant', 'speak', 'everyon', 'els', 'person', 'experi', 'alway', 'think', 'even', 'someth', 'overthink', 'even', 'person', 'interact', 'seem', 'absorb', 'convers', 'butno', 'absolut', 'wouldnt', 'overwhelm', 'think', 'person', 'explain', 'relat', 'would', 'even', 'thing', 'way', 'plan', 'know', 'mean', 'youjust', 'got', 'thing', 'left', 'eye', 'still', 'hurt', 'rawrwel', 'im', 'go', 'honest', 'someon', 'walk', 'like', 'cat', 'fall', 'fit', 'rage', 'burst', 'laugh', 'second', 'later', 'sound', 'aw', 'immatur', 'unstabl', 'possiblyr', 'someon', 'field', 'true', 'constantli', 'odd', 'buy', 'ive', 'ask', 'other', 'forum', 'dont', 'think', 'mani', 'peopl', 'inbait', 'approv', 'would', 'bug', 'answer', 'would', 'cant', 'make', 'stop', 'period', 'that', 'itheheheheh', 'idk', 'id', 'say', 'im', 'pretti', 'organ', 'schedul', 'that', 'natur', 'j', 'said', 'dont', 'think', 'anyth', 'sex', 'drive', 'like', 'lofti', 'said', 'probablyidk', 'well', 'sex', 'food', 'correl', 'person', 'type', 'mayb', 'thatd', 'interest', 'thing', 'researchi', 'also', 'disagre', 'think', 'simpli', 'obviou', 'extravert', 'spastic', 'obnoxi', 'natur', 'extravers', 'mere', 'feel', 'divulg', 'easili', 'process', 'externallyhahaha', 'someon', 'sound', 'excit', 'forgot', 'mention', 'poni', 'also', 'might', 'want', 'chang', 'word', 'bit', 'screw', 'need', 'protect', 'im', 'sorri', 'blanket', 'statement', 'peopl', 'run', 'gamut', 'e', 'black', 'white', 'youll', 'find', 'plenti', 'extravert', 'person', 'prefer', 'spend', 'time', 'home', 'one', 'twohahaha', 'connoisseur', 'reject', 'play', 'dumb', 'alway', 'goto', 'women', 'tend', 'get', 'shove', 'face', 'eventu', 'total', 'possibl', 'id', 'send', 'pictur', 'might', 'awkward', 'poor', 'intp', 'intens', 'stori', 'cant', 'wait', 'see', 'happen', 'hope', 'run', 'keep', 'mind', 'infpenfj', 'interact', 'weird', 'go', 'head', 'mightkittydian', 'true', 'said', 'pretti', 'much', 'demand', 'introduc', 'two', 'year', 'ago', 'nbd', 'wont', 'chang', 'opinion', 'thing', 'realiz', 'howdo', 'tell', 'im', 'intrigu', 'happen', 'intp', 'fire', 'readythi', 'ador', 'perhap', 'also', 'conflict', 'two', 'interact', 'like', 'typic', 'curiou', 'shi', 'approach', 'someon', 'dont', 'expecti', 'cant', 'speak', 'everyon', 'ill', 'speak', 'sign', 'enfj', 'give', 'away', 'attract', 'your', 'attract', 'depend', 'much', 'inform', 'aboutif', 'read', 'link', 'youll', 'see', 'extinguish', 'partner', 'infp', 'actual', 'enfp', 'love', 'japanes', 'literatur', 'someth', 'look', 'mayb', 'share', 'favorit', 'book', 'note', 'one', 'favorit', 'novella', 'banana', 'yoshimotosometim', 'there', 'effect', 'wholesom', 'isnt', 'intrigu', 'challeng', 'enough', 'factor', 'young', 'boy', 'chang', 'friend', 'get', 'older', 'tell', 'absolut', 'toim', 'go', 'say', 'word', 'caution', 'onlin', 'survey', 'least', 'reliabl', 'method', 'take', 'poll', 'two', 'big', 'reason', 'dont', 'know', 'person', 'answer', 'question', 'theythi', 'terrifi', 'thank', 'share', 'she', 'beauti']\n"
     ]
    },
    {
     "output_type": "execute_result",
     "data": {
      "text/plain": [
       "0"
      ]
     },
     "metadata": {},
     "execution_count": 12
    }
   ],
   "source": [
    "ps=PorterStemmer()\n",
    "\n",
    "# print(\"stopwords 제거 시작\")\n",
    "stop_words = set(stopwords.words('english'))\n",
    "#print(\"stopwords 제거 완료\")\n",
    "\n",
    "print(\"stemming 시작\")\n",
    "stemData=[]\n",
    "for sentence in X_data:\n",
    "    tokenData = nltk.word_tokenize(sentence)\n",
    "    tempData = []\n",
    "    for word in tokenData:\n",
    "        if word not in stop_words:\n",
    "            tempData.append(ps.stem(word))\n",
    "    stemData.append(tempData)\n",
    "print(\"stemming 완료\")\n",
    "print(stemData[0])\n",
    "stemData = np.array(stemData)\n",
    "#'list' object has no attribute 'lower' 문제 발생\n",
    "#2차원 리스트인 stemData를 1차원 리스트로\n",
    "#flat_stem = [item for sublist in stemData for item in sublist]\n",
    "del [[mbti]]\n",
    "gc.collect()"
   ]
  },
  {
   "source": [
    "# Vectorization"
   ],
   "cell_type": "markdown",
   "metadata": {}
  },
  {
   "cell_type": "code",
   "execution_count": 13,
   "metadata": {},
   "outputs": [],
   "source": [
    "import numpy as np\n",
    "from sklearn.feature_extraction.text import CountVectorizer\n",
    "from sklearn.feature_extraction.text import TfidfVectorizer"
   ]
  },
  {
   "cell_type": "code",
   "execution_count": 14,
   "metadata": {},
   "outputs": [
    {
     "output_type": "stream",
     "name": "stdout",
     "text": [
      "[[0.         0.         0.         ... 0.         0.         0.        ]\n [0.05858548 0.         0.         ... 0.         0.         0.        ]\n [0.         0.         0.         ... 0.         0.         0.        ]\n ...\n [0.04542902 0.         0.         ... 0.         0.         0.        ]\n [0.         0.         0.         ... 0.         0.         0.        ]\n [0.         0.         0.         ... 0.         0.         0.        ]]\n"
     ]
    }
   ],
   "source": [
    "def dummy_fun(doc):\n",
    "    return doc\n",
    "\n",
    "tfidf=TfidfVectorizer(\n",
    "    analyzer='word',\n",
    "    tokenizer=dummy_fun,\n",
    "    preprocessor=dummy_fun,\n",
    "    token_pattern=None\n",
    ")\n",
    "\n",
    "tfidf.fit(stemData)\n",
    "print(tfidf.transform(stemData).toarray())\n",
    "X = tfidf.transform(stemData)\n",
    "y = np.array(y_data)\n"
   ]
  },
  {
   "source": [
    "# XGBoost_Undersampling"
   ],
   "cell_type": "markdown",
   "metadata": {}
  },
  {
   "cell_type": "code",
   "execution_count": 15,
   "metadata": {},
   "outputs": [],
   "source": [
    "from xgboost import XGBClassifier\n",
    "from sklearn.model_selection import train_test_split\n",
    "from matplotlib import pyplot"
   ]
  },
  {
   "cell_type": "code",
   "execution_count": 16,
   "metadata": {},
   "outputs": [
    {
     "output_type": "stream",
     "name": "stdout",
     "text": [
      "Model building Start\n"
     ]
    },
    {
     "output_type": "execute_result",
     "data": {
      "text/plain": [
       "XGBClassifier(base_score=0.5, booster='gbtree', colsample_bylevel=1,\n",
       "              colsample_bynode=1, colsample_bytree=1, gamma=0, gpu_id=-1,\n",
       "              importance_type='gain', interaction_constraints='',\n",
       "              learning_rate=0.300000012, max_delta_step=0, max_depth=6,\n",
       "              min_child_weight=1, missing=nan, monotone_constraints='()',\n",
       "              n_estimators=100, n_jobs=0, num_parallel_tree=1,\n",
       "              objective='multi:softprob', random_state=0, reg_alpha=0,\n",
       "              reg_lambda=1, scale_pos_weight=None, subsample=1,\n",
       "              tree_method='exact', validate_parameters=1, verbosity=None)"
      ]
     },
     "metadata": {},
     "execution_count": 16
    }
   ],
   "source": [
    "print(\"Model building Start\")\n",
    "X_train, X_test, y_train, y_test = train_test_split(X, y, test_size= 0.3, random_state=1234)\n",
    "model = XGBClassifier()\n",
    "model.fit(X_train, y_train, verbose=1)\n",
    "#model.get_booster().get_score(importance_type=\"gain\") #변수의 중요도"
   ]
  },
  {
   "cell_type": "code",
   "execution_count": 17,
   "metadata": {},
   "outputs": [
    {
     "output_type": "stream",
     "name": "stdout",
     "text": [
      "Model building End\n"
     ]
    }
   ],
   "source": [
    "import xgboost as xgb\n",
    "#test_hp = xgb.DMatrix(data=VHX_data, label=hy)\n",
    "#preds = model.predict(X_test)\n",
    "preds = model.predict(X_test)\n",
    "print(\"Model building End\")"
   ]
  },
  {
   "cell_type": "code",
   "execution_count": 18,
   "metadata": {},
   "outputs": [
    {
     "output_type": "execute_result",
     "data": {
      "text/plain": [
       "['XGBoost_undersample.pkl']"
      ]
     },
     "metadata": {},
     "execution_count": 18
    }
   ],
   "source": [
    "import joblib\n",
    "\n",
    "joblib.dump(model, 'XGBoost_undersample.pkl')"
   ]
  },
  {
   "cell_type": "code",
   "execution_count": 19,
   "metadata": {},
   "outputs": [
    {
     "output_type": "stream",
     "name": "stdout",
     "text": [
      "Evaluation Start\n0.4946808510638298\n[0.71428571 0.4        0.27272727 0.23529412 0.81818182 0.41666667\n 0.54545455 1.         0.33333333 0.7        0.375      0.16666667\n 0.5        0.46666667 0.61111111 0.58333333]\n[0.625      0.30769231 0.375      0.4        0.5625     0.45454545\n 0.4        0.61538462 0.25       0.53846154 0.33333333 0.2\n 0.66666667 0.7        0.61111111 0.63636364]\n[0.66666667 0.34782609 0.31578947 0.2962963  0.66666667 0.43478261\n 0.46153846 0.76190476 0.28571429 0.60869565 0.35294118 0.18181818\n 0.57142857 0.56       0.61111111 0.60869565]\nEvaluation END\n"
     ]
    }
   ],
   "source": [
    "from sklearn.metrics import accuracy_score, recall_score, precision_score, f1_score\n",
    "\n",
    "print(\"Evaluation Start\")\n",
    "# labels과 guesses\n",
    "labels = preds\n",
    "guesses = y_test\n",
    "\n",
    "print(accuracy_score(labels, guesses))\n",
    "print(recall_score(labels, guesses, average=None))\n",
    "print(precision_score(labels, guesses, average=None))\n",
    "print(f1_score(labels, guesses, average=None))\n",
    "\n",
    "print(\"Evaluation END\")\n",
    "# https://eunsukimme.github.io/ml/2019/10/21/Accuracy-Recall-Precision-F1-score/"
   ]
  },
  {
   "cell_type": "code",
   "execution_count": 20,
   "metadata": {},
   "outputs": [
    {
     "output_type": "stream",
     "name": "stdout",
     "text": [
      "[0.46590909 0.4137931  0.50574713 0.48275862 0.42528736]\n0.45869905956112855\n"
     ]
    }
   ],
   "source": [
    "from sklearn.model_selection import StratifiedKFold, KFold\n",
    "from sklearn.model_selection import cross_val_score\n",
    "\n",
    "skf = StratifiedKFold(n_splits=5, shuffle=True, random_state=0)\n",
    "score = cross_val_score(model, X_train, y_train, cv=skf )\n",
    "print(score)\n",
    "print(score.mean())"
   ]
  },
  {
   "cell_type": "code",
   "execution_count": 21,
   "metadata": {},
   "outputs": [
    {
     "output_type": "stream",
     "name": "stdout",
     "text": [
      "['.\\\\data\\\\\\\\test\\\\HP_DUMBLEDORE.csv', '.\\\\data\\\\\\\\test\\\\HP_HAGRID.csv', '.\\\\data\\\\\\\\test\\\\HP_HARRY.csv', '.\\\\data\\\\\\\\test\\\\HP_HERMIONE.csv', '.\\\\data\\\\\\\\test\\\\HP_RON.csv']\n",
      "stemming 시작\n",
      "['shouldv', 'known', 'would', 'professor', 'mcgonagal', 'im', 'afraid', 'professor', 'good', 'bad', 'hagrid', 'bring', 'ah', 'professor', 'would', 'trust', 'hagrid', 'life', 'problem', 'trust', 'hagrid', 'albu', 'realli', 'think', 'safe', 'leav', 'peopl', 'famili', 'exactli', 'he', 'far', 'better', 'grow', 'away', 'he', 'readi', 'hagrid', 'realli', 'goodby', 'good', 'luckharri', 'potter', 'startofterm', 'notic', 'wish', 'announc', 'first', 'year', 'pleas', 'note', 'dark', 'forest', 'strictli', 'forbidden', 'student', 'also', 'caretak', 'mr', 'filch', 'ask', 'remind', 'thirdfloor', 'corridor', 'right', 'hand', 'side', 'bound', 'everyon', 'wish', 'die', 'pain', 'death', 'thank', 'let', 'feast', 'begin', 'sillllleeennnnceeee', 'everyon', 'pleas', 'panic', 'prefect', 'lead', 'hous', 'back', 'dormitori', 'teacher', 'follow', 'dungeon', 'happen', 'dungeon', 'professor', 'quirrel', 'complet', 'secret', 'natur', 'whole', 'school', 'know', 'ah', 'see', 'friend', 'ronald', 'save', 'troubl', 'open', 'chocol', 'frog', 'enough', 'elixir', 'set', 'affair', 'order', 'ye', 'die', 'ah', 'see', 'person', 'want', 'find', 'stone', 'find', 'use', 'would', 'abl', 'get', 'one', 'brilliant', 'idea', 'that', 'say', 'someth', 'love', 'harri', 'love', 'ah', 'berti', 'bott', 'everi', 'flavour', 'bean', 'unfortun', 'youth', 'come', 'across', 'vomit', 'flavour', 'one', 'sinc', 'lost', 'like', 'think', 'could', 'safe', 'nice', 'toffe', 'mm', 'ala', 'earwax', 'anoth', 'year', 'gone', 'understand', 'hous', 'cup', 'need', 'award', 'point', 'stand', 'thu', 'fourth', 'place', 'gryffindor', 'point', 'third', 'place', 'hufflepuff', 'point', 'second', 'place', 'ravenclaw', 'point', 'first', 'place', 'point', 'slytherin', 'hous', 'second', 'mr', 'ronald', 'weasley', 'best', 'play', 'game', 'chess', 'hogwart', 'seen', 'mani', 'year', 'point', 'third', 'mr', 'harri', 'potter', 'pure', 'nerv', 'outstand', 'courag', 'award', 'gryffindor', 'hous', 'point', 'final', 'take', 'great', 'deal', 'braveri', 'stand', 'enemi', 'great', 'deal', 'stand', 'friend', 'award', 'point', 'nevil', 'longbottom', 'assum', 'calcul', 'correct', 'believ', 'chang', 'direct', 'order', 'gryffindor', 'win', 'hous', 'cup', 'well', 'awar', 'bylaw', 'written', 'quit', 'howev', 'head', 'gryffindor', 'hous', 'professor', 'mcgonagal', 'determin', 'appropri', 'action', 'argu', 'argu', 'everyon', 'proceed', 'dormitori', 'immedi', 'everyon', 'except', 'three', 'she', 'dead', 'argu', 'petrifi', 'petrifi', 'say', 'innoc', 'proven', 'guilti', 'severu', 'abl', 'cure', 'argu', 'understand', 'madam', 'sprout', 'healthi', 'growth', 'mandrak', 'matur', 'potion', 'made', 'reviv', 'mr', 'norri', 'meantim', 'strongli', 'recommend', 'caution', 'there', 'anoth', 'attack', 'mean', 'student', 'great', 'danger', 'truth', 'tell', 'hogwart', 'longer', 'safe', 'fear', 'minerva', 'chamber', 'secret', 'inde', 'open', 'harri', 'time', 'he', 'look', 'dread', 'day', 'piti', 'see', 'burn', 'day', 'fawk', 'phoenix', 'harri', 'burst', 'flame', 'time', 'die', 'reborn', 'ash', 'fascin', 'creatur', 'phoenix', 'carri', 'immens', 'heavi', 'load', 'tear', 'heal', 'power', 'hagriiid', 'relax', 'believ', 'harri', 'attack', 'anyon', 'ye', 'harri', 'think', 'must', 'ask', 'someth', 'wish', 'tell', 'well', 'go', 'riddl', 'come', 'wise', 'wander', 'around', 'late', 'hour', 'tom', 'im', 'afraid', 'tom', 'true', 'understand', 'tom', 'im', 'afraid', 'headmast', 'dippet', 'may', 'choic', 'someth', 'wish', 'tell', 'well', 'go', 'good', 'even', 'hagrid', 'wonder', 'could', 'want', 'understood', 'corneliu', 'hagrid', 'full', 'confid', 'well', 'exactli', 'want', 'calm', 'hagrid', 'governor', 'desir', 'remov', 'cours', 'step', 'asid', 'howev', 'find', 'help', 'alway', 'given', 'hogwart', 'ask', 'realiz', 'cours', 'past', 'hour', 'broken', 'perhap', 'dozen', 'school', 'rule', 'suffici', 'evid', 'expel', 'therefor', 'fit', 'receiv', 'special', 'award', 'servic', 'school', 'mr', 'weasley', 'would', 'owl', 'deliv', 'releas', 'paper', 'azkaban', 'believ', 'want', 'gamekeep', 'back', 'harri', 'first', 'want', 'thank', 'harri', 'must', 'shown', 'real', 'loyalti', 'chamber', 'noth', 'could', 'call', 'fawk', 'second', 'sens', 'someth', 'troubl', 'right', 'harri', 'see', 'well', 'speak', 'parseltongu', 'harri', 'lord', 'voldemort', 'speak', 'parseltongu', 'im', 'mistaken', 'harri', 'transfer', 'power', 'night', 'gave', 'scar', 'intent', 'ye', 'true', 'possess', 'mani', 'qualiti', 'voldemort', 'prize', 'determin', 'resourc', 'may', 'say', 'certain', 'disregard', 'rule', 'sort', 'hat', 'place', 'gryffindor', 'exactli', 'harri', 'exactli', 'make', 'differ', 'voldemort', 'abil', 'show', 'truli', 'choic', 'want', 'proof', 'belong', 'gryffindor', 'suggest', 'look', 'close', 'care', 'would', 'take', 'true', 'gryffindor', 'pull', 'hat', 'governor', 'learn', 'arthur', 'weasley', 'daughter', 'taken', 'chamber', 'saw', 'fit', 'summon', 'back', 'curious', 'luciu', 'sever', 'impress', 'would', 'curs', 'famili', 'agre', 'suspend', 'first', 'place', 'beg', 'pardon', 'ye', 'voldemort', 'time', 'chose', 'act', 'somebodi', 'els', 'mean', 'fortun', 'young', 'mr', 'potter', 'discov', 'one', 'hope', 'lord', 'voldemort', 'old', 'schoolth', 'find', 'way', 'innoc', 'hand', 'consequ', 'one', 'respons', 'would', 'sever', 'begin', 'feast', 'let', 'us', 'round', 'applaus', 'professor', 'sprout', 'madam', 'pomfrey', 'whose', 'mandrak', 'juic', 'success', 'administ', 'petrifi', 'also', 'light', 'recent', 'event', 'school', 'treat', 'exam', 'cancel', 'welcom', 'welcom', 'anoth', 'year', 'hogwart', 'id', 'like', 'say', 'word', 'becom', 'befuddl', 'excel', 'feast', 'first', 'im', 'pleas', 'welcom', 'professor', 'rj', 'lupin', 'who', 'kindli', 'consent', 'fill', 'post', 'defens', 'dark', 'art', 'teacher', 'good', 'luck', 'professor', 'care', 'magic', 'creatur', 'teacher', 'decid', 'retir', 'order', 'spend', 'time', 'remain', 'limb', 'fortun', 'im', 'delight', 'announc', 'place', 'taken', 'none', 'rubeu', 'hagrid', 'final', 'disquiet', 'note', 'request', 'ministri', 'magic', 'hogwart', 'notic', 'play', 'host', 'dementor', 'azkaban', 'time', 'siriu', 'black', 'captur', 'dementor', 'station', 'everi', 'entranc', 'ground', 'whilst', 'ive', 'assur', 'presenc', 'disrupt', 'daytoday', 'activ', 'word', 'caution', 'dementor', 'viciou', 'creatur', 'theyll', 'distinguish', 'one', 'hunt', 'one', 'get', 'way', 'therefor', 'must', 'warn', 'everi', 'one', 'give', 'reason', 'harm', 'natur', 'dementor', 'forgiv', 'know', 'happi', 'found', 'even', 'darkest', 'time', 'one', 'rememb', 'turn', 'light', 'mr', 'filch', 'round', 'ghost', 'tell', 'search', 'everi', 'paint', 'castl', 'find', 'fat', 'ladi', 'keep', 'move', 'dear', 'ladi', 'secur', 'castl', 'mr', 'filch', 'rest', 'great', 'hall', 'thank', 'good', 'didnt', 'realli', 'expect', 'linger', 'quit', 'remark', 'ye', 'mani', 'unlik', 'next', 'singl', 'professor', 'insid', 'castl', 'would', 'help', 'siriu', 'black', 'enter', 'im', 'quit', 'convinc', 'castl', 'safe', 'im', 'will', 'send', 'student', 'hous', 'perhap', 'let', 'sleep', 'dream', 'enter', 'world', 'that', 'entir', 'let', 'swim', 'deepest', 'ocean', 'glide', 'highest', 'cloud', 'aresto', 'momentum', 'minist', 'way', 'that', 'ling', 'see', 'slope', 'ah', 'hagrid', 'good', 'even', 'id', 'like', 'cup', 'tea', 'hagrid', 'come', 'right', 'itll', 'right', 'scabber', 'miss', 'granger', 'word', 'three', 'yearold', 'wizard', 'convinc', 'other', 'child', 'voic', 'howev', 'honest', 'true', 'meaningless', 'forgotten', 'listen', 'mysteri', 'thing', 'time', 'power', 'meddl', 'danger', 'siriu', 'black', 'topmost', 'cell', 'dark', 'tower', 'know', 'law', 'miss', 'granger', 'must', 'seen', 'would', 'well', 'feel', 'return', 'last', 'chime', 'consequ', 'ghastli', 'discuss', 'succeed', 'tonight', 'one', 'innoc', 'life', 'may', 'spare', 'three', 'turn', 'think', 'oh', 'way', 'doubt', 'find', 'retrac', 'step', 'wise', 'place', 'begin', 'good', 'luck', 'minist', 'realli', 'think', 'sign', 'well', 'long', 'name', 'minist', 'follow', 'look', 'look', 'beyond', 'rock', 'professor', 'dippet', 'ling', 'plant', 'headmast', 'strawberri', 'right', 'extraordinari', 'dont', 'think', 'minist', 'suggest', 'anyth', 'afteral', 'could', 'youv', 'us', 'time', 'well', 'search', 'sky', 'must', 'minist', 'meanwhil', 'id', 'like', 'nice', 'cup', 'tea', 'larg', 'brandi', 'oh', 'execution', 'servic', 'longer', 'requir', 'thank', 'well', 'good', 'night']\n",
      "['professor', 'dumbledor', 'sir', 'professor', 'mcgonagal', 'sir', 'littl', 'tyke', 'fell', 'asleep', 'fli', 'bristol', 'tri', 'wake', 'go', 'sorri', 'dri', 'dursley', 'great', 'prune', 'mind', 'havent', 'seen', 'sinc', 'babi', 'harri', 'your', 'bit', 'along', 'would', 'expect', 'particularli', 'round', 'middl', 'well', 'cours', 'got', 'someth', 'afraid', 'might', 'sat', 'somepoint', 'imagin', 'itll', 'tast', 'fine', 'bake', 'word', 'everi', 'day', 'young', 'man', 'turn', 'rubeu', 'hagrid', 'keeper', 'key', 'ground', 'hogwart', 'cours', 'know', 'hogwart', 'blimey', 'harri', 'didnt', 'ever', 'wonder', 'mum', 'dad', 'learn', 'your', 'wizard', 'harri', 'wizard', 'thump', 'good', 'one', 'id', 'wager', 'your', 'train', 'littl', 'well', 'harri', 'ever', 'make', 'anyth', 'happen', 'anyth', 'couldnt', 'explain', 'angri', 'scare', 'car', 'crash', 'car', 'crash', 'kill', 'lili', 'jame', 'potter', 'outrag', 'scandal', 'oh', 'suppos', 'great', 'muggl', 'like', 'yourself', 'go', 'stop', 'nonmag', 'folk', 'boy', 'name', 'ever', 'sinc', 'born', 'he', 'go', 'finest', 'school', 'witchcraft', 'wizardri', 'world', 'hell', 'finest', 'headmast', 'hogwart', 'ever', 'seen', 'albu', 'dumbledor', 'never', 'insult', 'albu', 'dumbledor', 'front', 'oh', 'um', 'id', 'appreci', 'didnt', 'tell', 'anyon', 'hogwart', 'strickli', 'speak', 'im', 'allow', 'magic', 'ooh', 'bit', 'behind', 'schedul', 'best', 'unless', 'youd', 'rather', 'stay', 'cours', 'essenti', 'bit', 'equip', 'harri', 'dont', 'mean', 'penguin', 'crikey', 'id', 'love', 'dragon', 'vastli', 'misunderstood', 'beast', 'harri', 'vastli', 'misunderstood', 'know', 'go', 'thank', 'tom', 'im', 'offici', 'hogwart', 'busi', 'help', 'young', 'harri', 'buy', 'school', 'suppli', 'hello', 'professor', 'didnt', 'see', 'harri', 'professor', 'quirrel', 'defens', 'dark', 'art', 'teacher', 'hogwart', 'ye', 'well', 'must', 'go', 'lot', 'buy', 'see', 'harri', 'your', 'famou', 'im', 'sure', 'im', 'exactli', 'right', 'person', 'tell', 'harri', 'welcom', 'harri', 'diagon', 'alley', 'here', 'youll', 'get', 'quill', 'ink', 'bit', 'bob', 'wizardri', 'well', 'there', 'money', 'harri', 'gringott', 'wizard', 'bank', 'aint', 'safer', 'place', 'one', 'except', 'perhap', 'hogwart', 'theyr', 'goblin', 'harri', 'clever', 'come', 'goblin', 'friendli', 'beast', 'best', 'stay', 'close', 'mr', 'harri', 'potter', 'wish', 'make', 'withdraw', 'oh', 'wait', 'minut', 'got', 'somewher', 'ha', 'here', 'littl', 'devil', 'oh', 'there', 'someth', 'els', 'well', 'professor', 'dumbledor', 'gave', 'youknowwhat', 'vault', 'youknowwhich', 'didnt', 'think', 'mum', 'dad', 'leav', 'noth', 'ya', 'cant', 'tell', 'harri', 'hogwart', 'busi', 'secret', 'best', 'mention', 'anyon', 'harri', 'wand', 'well', 'youll', 'want', 'ollivand', 'aint', 'place', 'better', 'dont', 'run', 'along', 'wait', 'got', 'one', 'thing', 'got', 'ta', 'wont', 'long', 'harri', 'harri', 'happi', 'birthday', 'right', 'harri', 'seem', 'quiet', 'first', 'understand', 'harri', 'import', 'wizard', 'good', 'go', 'bad', 'year', 'ago', 'one', 'wizard', 'went', 'bad', 'go', 'name', 'v', 'name', 'v', 'cant', 'spell', 'right', 'voldemort', 'dark', 'time', 'harri', 'dark', 'time', 'voldemort', 'start', 'gather', 'follow', 'brought', 'dark', 'side', 'anyon', 'stood', 'end', 'dead', 'parent', 'fought', 'nobodi', 'live', 'decid', 'kill', 'nobodi', 'one', 'except', 'ye', 'aint', 'ordinari', 'cut', 'forehead', 'harri', 'mark', 'like', 'come', 'touch', 'curs', 'evil', 'curs', 'well', 'say', 'die', 'codswallop', 'opinion', 'nope', 'reckon', 'he', 'still', 'tire', 'carri', 'one', 'thing', 'absolut', 'certain', 'someth', 'stump', 'night', 'that', 'your', 'famou', 'that', 'everybodi', 'know', 'name', 'your', 'boy', 'live', 'look', 'blimey', 'time', 'sorri', 'harri', 'im', 'gon', 'na', 'leav', 'dumbledor', 'want', 'well', 'hell', 'want', 'see', 'uh', 'train', 'leav', 'minut', 'here', 'ticket', 'stick', 'harri', 'that', 'import', 'stick', 'ticket', 'right', 'first', 'year', 'way', 'pleas', 'come', 'first', 'year', 'dont', 'shi', 'come', 'hurri', 'hello', 'harri', 'right', 'way', 'boat', 'come', 'follow', 'look', 'like', 'he', 'gon', 'na', 'sick', 'nonsens', 'would', 'snape', 'put', 'curs', 'harri', 'broom', 'listen', 'three', 'your', 'meddlin', 'thing', 'ought', 'meddl', 'danger', 'dog', 'guard', 'strictli', 'professor', 'dumbledor', 'nichola', 'flamel', 'shouldnt', 'said', 'said', 'said', 'oh', 'hello', 'sorri', 'dont', 'wish', 'rude', 'im', 'fit', 'state', 'entertain', 'today', 'shouldnt', 'told', 'go', 'wait', 'ye', 'come', 'hurri', 'youll', 'late', 'train', 'leav', 'go', 'go', 'come', 'hurri', 'thought', 'leav', 'without', 'say', 'goodby', 'didja', 'oh', 'go', 'onon', 'oh', 'listen', 'harri', 'dolt', 'cousin', 'dudley', 'give', 'grief', 'could', 'alway', 'um', 'threaten', 'nice', 'pair', 'ear', 'go', 'tail', 'cousin', 'dont', 'eh', 'go', 'harri', 'think', 'your', 'come', 'your', 'mess', 'harri', 'skulk', 'around', 'knockturn', 'alley', 'dodgi', 'place', 'dont', 'want', 'one', 'see', 'peopl', 'think', 'your', 'good', 'look', 'flesheat', 'slug', 'repel', 'theyr', 'ruin', 'school', 'cabbag', 'hello', 'hermion', 'youll', 'right', 'harri', 'right', 'ill', 'leav', 'call', 'specialist', 'equip', 'noth', 'wait', 'till', 'stop', 'im', 'afraid', 'okay', 'better', 'ron', 'tri', 'curs', 'anyway', 'see', 'thing', 'harri', 'wizard', 'like', 'malfoy', 'familywho', 'think', 'theyr', 'better', 'everyon', 'els', 'theyr', 'pureblood', 'codswallop', 'boot', 'dirti', 'blood', 'isnt', 'wizard', 'aliv', 'today', 'that', 'halfblood', 'less', 'point', 'theyv', 'yet', 'think', 'spell', 'hermion', 'cant', 'come', 'dont', 'think', 'hermion', 'dont', 'think', 'one', 'minut', 'blimey', 'harri', 'got', 'rogu', 'bludger', 'that', 'tamper', 'broken', 'there', 'bone', 'left', 'professor', 'dumbledor', 'sir', 'wait', 'listen', 'professor', 'dumbledor', 'sir', 'wasnt', 'harri', 'id', 'prepar', 'swear', 'front', 'ministri', 'magic', 'cours', 'dont', 'ohh', 'oww', 'right', 'well', 'ill', 'ill', 'wait', 'outsid', 'let', 'get', 'cant', 'dont', 'understand', 'wasnt', 'aragog', 'never', 'kill', 'one', 'never', 'aragog', 'aragog', 'mad', 'hairi', 'wouldnt', 'talk', 'would', 'flesheat', 'slug', 'repel', 'mandrak', 'know', 'accord', 'professor', 'sprout', 'theyv', 'still', 'got', 'bit', 'grow', 'acn', 'clear', 'well', 'chop', 'stew', 'well', 'get', 'peopl', 'hospit', 'unpetrifi', 'meantim', 'though', 'three', 'best', 'look', 'right', 'hello', 'nevil', 'who', 'hello', 'hello', 'noth', 'expect', 'doesnt', 'matter', 'come', 'made', 'pot', 'tea', 'im', 'fine', 'im', 'right', 'oh', 'yeah', 'heard', 'right', 'understand', 'quick', 'cloak', 'dont', 'say', 'word', 'quiet', 'professor', 'dumbledor', 'sir', 'cours', 'come', 'come', 'never', 'know', 'never', 'professor', 'take', 'take', 'azkaban', 'prison', 'get', 'hous', 'cant', 'take', 'professor', 'dumbledor', 'away', 'take', 'away', 'muggleborn', 'wont', 'stand', 'chanc', 'mark', 'word', 'therel', 'kill', 'next', 'well', 'anybodi', 'look', 'stuff', 'theyd', 'would', 'follow', 'spider', 'yep', 'would', 'lead', 'right', 'that', 'say', 'someon', 'need', 'feed', 'fang', 'im', 'away', 'sorri', 'im', 'late', 'owl', 'deliv', 'releas', 'paper', 'got', 'lost', 'confus', 'ruddi', 'bird', 'call', 'errol', 'id', 'like', 'say', 'hadnt', 'harri', 'ron', 'hermion', 'cours', 'would', 'still', 'youknowwher', 'id', 'like', 'say', 'thank', 'that', 'come', 'come', 'closer', 'less', 'talk', 'dont', 'mind', 'got', 'real', 'treat', 'today', 'great', 'lesson', 'follow', 'right', 'lot', 'less', 'chatter', 'form', 'group', 'open', 'book', 'page', 'stroke', 'spine', 'cours', 'good', 'ron', 'hippogriff', 'first', 'thing', 'wan', 'na', 'know', 'theyr', 'proud', 'creatur', 'easili', 'offend', 'want', 'insult', 'hippogriff', 'may', 'last', 'thing', 'ever', 'whod', 'like', 'come', 'say', 'hello', 'well', 'done', 'harri', 'well', 'done', 'come', 'let', 'make', 'first', 'move', 'polit', 'step', 'give', 'nice', 'bow', 'wait', 'see', 'bow', 'back', 'go', 'touch', 'well', 'well', 'get', 'later', 'make', 'bow', 'nice', 'low', 'back', 'harri', 'back', 'keep', 'still', 'keep', 'still', 'well', 'done', 'harri', 'well', 'done', 'big', 'brute', 'right', 'think', 'go', 'pat', 'go', 'dont', 'shi', 'nice', 'slow', 'nice', 'slow', 'slow', 'fast', 'harri', 'slow', 'harri', 'that', 'nice', 'slow', 'let', 'come', 'slowli', 'slowli', 'slowli', 'that', 'ye', 'well', 'done', 'well', 'done', 'harri', 'well', 'done', 'think', 'may', 'let', 'ride', 'come', 'put', 'behind', 'wing', 'joint', 'dont', 'pull', 'feather', 'wont', 'thank', 'well', 'done', 'harri', 'well', 'done', 'buckbeak', 'well', 'done', 'well', 'done', 'first', 'day', 'malfoy', 'buckbeak', 'whoa', 'whoa', 'whoa', 'whoa', 'buckbeak', 'away', 'silli', 'creatur', 'calm', 'scratch', 'im', 'teacher', 'ill', 'class', 'dismiss', 'allow', 'minist', 'sorri', 'well', 'first', 'committe', 'member', 'took', 'turn', 'talk', 'got', 'piec', 'said', 'buckbeak', 'good', 'hippogriff', 'alway', 'clean', 'feather', 'luciu', 'malfoy', 'got', 'well', 'imagin', 'said', 'buckbeak', 'deadli', 'danger', 'creatur', 'would', 'kill', 'soon', 'look', 'ask', 'worst', 'old', 'luciu', 'im', 'sack', 'buckbeak', 'sentenc', 'death', 'look', 'love', 'smell', 'tree', 'wind', 'blow', 'theyd', 'know', 'dumbledor', 'would', 'get', 'troubl', 'he', 'come', 'dumbledor', 'say', 'want', 'theywhen', 'happen', 'great', 'man', 'dumbledor', 'great', 'man', 'youll', 'thing', 'think', 'want', 'see', 'someth', 'like', 'drink', 'tea', 'oh', 'ron', 'keep', 'closer', 'eye', 'pet', 'blimey', 'oh', 'crikey', 'late', 'nearli', 'dark', 'shouldnt', 'someon', 'see', 'outsid', 'time', 'night', 'youll', 'troubl', 'particularli', 'harri', 'moment', 'quick', 'quick', 'go', 'go', 'professor', 'dumbledor', 'minist', 'make', 'way', 'tea', 'like', 'gentlemen', 'dear', 'dear', 'buckbeak', 'didnt', 'mean', 'harm', 'keep', 'closer', 'eye', 'pet', 'buckbeak', 'right', 'youll', 'find', 'small', 'glass', 'hous', 'professor']\n",
      "['ye', 'aunt', 'petunia', 'ye', 'uncl', 'vernon', 'he', 'asleep', 'sorri', 'doesnt', 'understand', 'like', 'lie', 'day', 'day', 'watch', 'peopl', 'press', 'ugli', 'face', 'hear', 'ive', 'never', 'talk', 'snake', 'mean', 'talk', 'peopl', 'often', 'your', 'burma', 'arent', 'nice', 'miss', 'famili', 'see', 'that', 'well', 'never', 'knew', 'parent', 'either', 'mummi', 'dad', 'come', 'anytim', 'swear', 'dont', 'know', 'one', 'minut', 'glass', 'gone', 'like', 'magic', 'wear', 'that', 'dudley', 'old', 'uniform', 'itll', 'fit', 'like', 'bit', 'old', 'eleph', 'skin', 'hey', 'give', 'back', 'mine', 'there', 'post', 'sunday', 'get', 'theyr', 'letter', 'let', 'go', 'make', 'wish', 'harri', 'thank', 'excus', 'sorri', 'learnt', 'im', 'youv', 'made', 'mistak', 'meanl', 'cant', 'wizard', 'mean', 'im', 'harri', 'harri', 'dear', 'mr', 'potter', 'pleas', 'inform', 'accept', 'hogwart', 'school', 'witchcraft', 'wizardri', 'knew', 'knew', 'along', 'never', 'told', 'blown', 'told', 'parent', 'die', 'car', 'crash', 'muggl', 'okay', 'first', 'year', 'student', 'requir', 'three', 'set', 'plain', 'work', 'robe', 'one', 'wand', 'one', 'pair', 'dragon', 'hide', 'glove', 'hagrid', 'mean', 'real', 'dragon', 'youd', 'like', 'dragon', 'student', 'must', 'equip', 'one', 'standard', 'size', 'pewter', 'cauldron', 'may', 'bring', 'desir', 'either', 'owl', 'cat', 'toad', 'find', 'london', 'oh', 'nice', 'meet', 'goodby', 'famou', 'hagrid', 'peopl', 'back', 'know', 'hagrid', 'pay', 'havent', 'money', 'hagrid', 'exactli', 'thing', 'what', 'hagrid', 'still', 'need', 'wand', 'hello', 'hello', 'sorri', 'what', 'curiou', 'own', 'wand', 'kill', 'parent', 'didnt', 'one', 'gave', 'know', 'hagrid', 'know', 'mayb', 'wrote', 'voldemort', 'voldemort', 'tri', 'kill', 'happen', 'v', 'youknowwho', 'platform', 'hagrid', 'must', 'mistak', 'say', 'platform', 'there', 'thing', 'excus', 'excus', 'excus', 'sir', 'tell', 'might', 'find', 'platform', 'muggl', 'excus', 'could', 'tell', 'im', 'harri', 'harri', 'potter', 'well', 'take', 'lot', 'berti', 'bott', 'everi', 'flavor', 'bean', 'arent', 'real', 'frog', 'ive', 'got', 'dumbledor', 'hey', 'he', 'gone', 'littl', 'bit', 'yeah', 'hey', 'hagrid', 'think', 'tell', 'wrong', 'sort', 'thank', 'noth', 'noth', 'im', 'fine', 'slytherin', 'slytherin', 'say', 'perci', 'who', 'teacher', 'talk', 'professor', 'quirrel', 'what', 'teach', 'think', 'fanci', 'got', 'lost', 'dont', 'know', 'sir', 'dont', 'know', 'sir', 'clearli', 'hermion', 'know', 'seem', 'piti', 'ask', 'what', 'seamu', 'tri', 'glass', 'water', 'borrow', 'thank', 'hey', 'ron', 'somebodi', 'broke', 'gringott', 'listen', 'believ', 'work', 'dark', 'wizard', 'witch', 'unknown', 'gringott', 'goblin', 'acknowledg', 'breach', 'insist', 'noth', 'taken', 'vault', 'question', 'number', 'fact', 'empti', 'earlier', 'day', 'that', 'odd', 'that', 'vault', 'hagrid', 'went', 'give', 'malfoy', 'give', 'ill', 'knock', 'broom', 'let', 'go', 'way', 'lock', 'think', 'heard', 'where', 'hermion', 'good', 'get', 'us', 'troubl', 'like', 'mind', 'might', 'need', 'save', 'hadnt', 'insult', 'nichola', 'flamelwho', 'nichola', 'flamel', 'knight', 'e', 'name', 'said', 'use', 'well', 'famou', 'fire', 'eater', 'th', 'centuri', 'fiendsflamel', 'nichola', 'flamelwher', 'look', 'properli', 'go', 'stand', 'see', 'dont', 'that', 'dad', 'malfoy', 'found', 'go', 'knew', 'name', 'sound', 'familiar', 'read', 'train', 'day', 'shh', 'hagrid', 'alway', 'want', 'dragon', 'told', 'first', 'time', 'met', 'go', 'trapdoor', 'tonight', 'snore', 'dont', 'know', 'sound', 'like', 'wing', 'flamel', 'hell', 'die', 'wont', 'right', 'ron', 'right', 'hermion', 'good', 'job', 'one', 'minut', 'thank', 'hagrid', 'hagrid', 'allow', 'magic', 'away', 'hogwart', 'know', 'im', 'go', 'home', 'realli', 'youv', 'done', 'she', 'bore', 'could', 'let', 'hour', 'two', 'havent', 'messag', 'friend', 'one', 'summer', 'ill', 'bedroom', 'make', 'nois', 'pretend', 'dont', 'exist', 'rude', 'anyth', 'isnt', 'great', 'time', 'hous', 'elf', 'bedroom', 'dont', 'sit', 'dobbi', 'ssh', 'im', 'sorri', 'didnt', 'mean', 'offend', 'anyth', 'cant', 'met', 'mani', 'decent', 'wizard', 'stop', 'dobbi', 'dobbi', 'shh', 'dobbi', 'pleas', 'stop', 'stop', 'stop', 'dobbi', 'pleas', 'quiet', 'right', 'famili', 'terribl', 'thing', 'who', 'plot', 'ok', 'understand', 'cant', 'say', 'dobbi', 'dobbi', 'put', 'lamp', 'ron', 'fred', 'georg', 'ahh', 'ahh', 'let', 'go', 'get', 'floo', 'powder', 'diagon', 'im', 'fine', 'thank', 'go', 'pleas', 'hagrid', 'lost', 'hang', 'great', 'see', 'definit', 'need', 'rememb', 'one', 'thank', 'bye', 'voldemort', 'kill', 'parent', 'noth', 'murder', 'let', 'go', 'sorri', 'lost', 'control', 'trolley', 'cant', 'get', 'train', 'leav', 'exactli', 'weve', 'miss', 'mayb', 'go', 'wait', 'car', 'ron', 'tell', 'muggl', 'arent', 'accustom', 'see', 'fli', 'car', 'come', 'let', 'go', 'lower', 'need', 'find', 'train', 'need', 'catch', 'train', 'hear', 'hold', 'im', 'tri', 'hand', 'sweati', 'think', 'found', 'train', 'ron', 'mind', 'tree', 'thank', 'neck', 'dont', 'know', 'come', 'go', 'fast', 'see', 'hedwig', 'houseelf', 'show', 'bedroom', 'cant', 'get', 'barrier', 'platform', 'almost', 'get', 'kill', 'tree', 'clearli', 'someon', 'doesnt', 'want', 'year', 'professor', 'dumbledor', 'professor', 'mcgonagal', 'your', 'doom', 'hi', 'colin', 'nice', 'meet', 'stop', 'hold', 'still', 'malfoy', 'colin', 'get', 'way', 'let', 'take', 'hagrid', 'hell', 'know', 'malfoy', 'call', 'hermion', 'well', 'dont', 'know', 'exactli', 'mean', 'what', 'mudblood', 'that', 'horribl', 'realli', 'voic', 'didnt', 'hear', 'spooki', 'hear', 'voic', 'heard', 'first', 'lockhart', 'offic', 'move', 'think', 'go', 'kill', 'strang', 'ive', 'never', 'seen', 'spider', 'act', 'like', 'oh', 'filch', 'cat', 'mr', 'norri', 'true', 'sir', 'swear', 'never', 'touch', 'mr', 'norri', 'said', 'wasnt', 'hungri', 'head', 'back', 'common', 'room', 'found', 'mr', 'norri', 'strang', 'think', 'told', 'dumbledor', 'other', 'mean', 'realli', 'chamber', 'secret', 'open', 'mean', 'mayb', 'ron', 'right', 'hermion', 'mean', 'look', 'famili', 'whole', 'lot', 'slytherin', 'centuri', 'long', 'take', 'make', 'month', 'hermion', 'malfoy', 'heir', 'slytherin', 'could', 'attack', 'half', 'muggleborn', 'school', 'wood', 'look', 'thank', 'think', 'arm', 'broken', 'dobbi', 'stop', 'barrier', 'let', 'ron', 'nearli', 'got', 'ron', 'expel', 'bludger', 'made', 'bludger', 'chase', 'better', 'clear', 'bone', 'come', 'back', 'dobbi', 'might', 'strangl', 'dont', 'suppos', 'could', 'tell', 'your', 'tri', 'kill', 'wear', 'thing', 'dobbi', 'repeat', 'mean', 'happen', 'stop', 'stop', 'dobbi', 'tell', 'dobbi', 'happen', 'who', 'dobbi', 'tell', 'thank', 'sir', 'wish', 'rictusempra', 'im', 'know', 'accident', 'set', 'python', 'cousin', 'dudley', 'zoo', 'bet', 'load', 'peopl', 'what', 'bad', 'hadnt', 'told', 'snake', 'attack', 'justin', 'heard', 'spoke', 'differ', 'languag', 'didnt', 'realiz', 'speak', 'languag', 'without', 'know', 'im', 'cant', 'ill', 'see', 'back', 'common', 'room', 'mr', 'filch', 'dont', 'understand', 'professor', 'swear', 'didnt', 'professor', 'dumbledor', 'iii', 'wonder', 'put', 'right', 'hous', 'your', 'wrong', 'professor', 'birdther', 'noth', 'could', 'caught', 'fire', 'dont', 'think', 'professor', 'sir', 'noth', 'crabb', 'goyl', 'ron', 'mayb', 'wingardium', 'leviosa', 'come', 'let', 'get', 'ron', 'still', 'sound', 'like', 'need', 'sound', 'like', 'crabb', 'excel', 'hermion', 'okay', 'come', 'think', 'slytherin', 'common', 'room', 'way', 'im', 'ah', 'um', 'read', 'your', 'wrong', 'harri', 'potter', 'must', 'idea', 'who', 'behind', 'stomachach', 'calm', 'hair', 'hermion', 'come', 'weve', 'got', 'load', 'tell', 'hermion', 'okay', 'hospit', 'day', 'stop', 'cough', 'fur', 'ball', 'what', 'look', 'like', 'moan', 'myrtl', 'flood', 'bathroom', 'would', 'throw', 'someth', 'threw', 'anyway', 'tom', 'marvolo', 'riddl', 'name', 'harri', 'potter', 'know', 'anyth', 'chamber', 'secret', 'tell', 'excus', 'could', 'tell', 'what', 'go', 'tom', 'riddl', 'hello', 'hear', 'dumbledor', 'hagrid', 'haagriiid', 'wow', 'hagrid', 'hagrid', 'open', 'chamber', 'secret', 'year', 'ago', 'monster', 'kill', 'somebodi', 'ron', 'would', 'us', 'done', 'what', 'youv', 'got', 'hagrid', 'found', 'tom', 'riddl', 'diari', 'gone', 'weve', 'got', 'talk', 'hagrid', 'ron', 'cant', 'believ', 'set', 'monster', 'loos', 'last', 'time', 'hell', 'know', 'get', 'insid', 'chamber', 'secret', 'that', 'start', 'think', 'time', 'get', 'dad', 'old', 'cloak', 'what', 'hagrid', 'okay', 'hear', 'hermion', 'look', 'ask', 'someth', 'know', 'who', 'open', 'chamber', 'secret', 'look', 'come', 'come', 'fang', 'come', 'heard', 'hagrid', 'said', 'follow', 'spider', 'shush', 'come', 'dont', 'panic', 'friend', 'hagrid', 'your', 'aragog', 'arent', 'he', 'troubl', 'school', 'attack', 'think', 'hagrid', 'think', 'open', 'chamber', 'secret', 'like', 'your', 'monster', 'your', 'monster', 'kill', 'girl', 'year', 'ago', 'seen', 'well', 'thank', 'well', 'go', 'one', 'power', 'enough', 'let', 'go', 'arania', 'exumai', 'go', 'arania', 'exumai', 'dont', 'mention', 'get', 'us', 'come', 'come', 'move', 'faster', 'come', 'go', 'get', 'us', 'air', 'come', 'pull', 'know', 'one', 'thing', 'hagrid', 'never', 'open', 'chamber', 'secret', 'innoc', 'wish', 'hermion', 'need', 'ever', 'ron', 'hermion', 'librari', 'day', 'attack', 'come', 'mani', 'fearsom', 'beast', 'roam', 'land', 'none', 'deadli', 'basilisk', 'capabl', 'live', 'hundr', 'year', 'instant', 'death', 'await', 'meet', 'giant', 'serpent', 'eye', 'spider', 'flee', 'ron', 'monster', 'chamber', 'secret', 'basilisk', 'that', 'hear', 'speak', 'snake', 'one', 'look', 'eye', 'directli', 'least', 'colin', 'saw', 'camera', 'justin', 'justin', 'must', 'seen', 'basilisk', 'nearli', 'headless', 'nick', 'nick', 'got', 'full', 'blast', 'he', 'ghost', 'couldnt', 'die', 'hermion', 'mirror', 'bet', 'use', 'look', 'around', 'corner', 'case', 'came', 'along', 'water', 'water', 'floor', 'night', 'saw', 'basilisk', 'reflect', 'spider', 'flee', 'fit', 'hermion', 'answer', 'rememb', 'aragog', 'said', 'girl', 'year', 'ago', 'die', 'bathroom', 'never', 'left', 'lockhart', 'may', 'useless', 'he', 'go', 'tri', 'get', 'chamber', 'least', 'tell', 'know', 'professor', 'inform', 'go', 'somewher', 'your', 'run', 'away', 'book', 'wrote', 'your', 'fraud', 'youv', 'take', 'credit', 'wizard', 'done', 'dont', 'even', 'think', 'ask', 'die', 'myrtl', 'like', 'ron', 'think', 'entranc', 'chamber', 'secret', 'ye', 'first', 'right', 'let', 'go', 'thank', 'myrtl', 'rememb', 'sign', 'movement', 'close', 'eye', 'straightaway', 'way', 'snake', 'skin', 'ron', 'ron', 'okay', 'wait', 'tri', 'shift', 'rock', 'get', 'back', 'ill', 'go', 'find', 'ginni', 'ginni', 'ginni', 'pleas', 'dont', 'dead', 'wake', 'wake', 'pleas', 'wake', 'tom', 'tom', 'riddl', 'mean', 'wont', 'wake', 'she', 'ghost', 'she', 'cold', 'ice', 'ginni', 'pleas', 'dont', 'dead', 'wake', 'youv', 'got', 'help', 'tom', 'there', 'basilisk', 'give', 'wand', 'tom', 'weve', 'got', 'go', 'weve', 'got', 'save', 'couldnt', 'wouldnt', 'want', 'meet', 'hagrid', 'friend', 'frame', 'didnt', 'ill', 'bet', 'dumbledor', 'saw', 'right', 'well', 'havent', 'finish', 'time', 'hour', 'mandrak', 'draught', 'readi', 'everyon', 'petrifi', 'right', 'care', 'escap', 'voldemort', 'time', 'your', 'heir', 'slytherin', 'your', 'voldemort', 'albu', 'dumbledor', 'greatest', 'sorcer', 'world', 'hell', 'never', 'gone', 'long', 'remain', 'loyal', 'fawk', 'ginni', 'ginni', 'dont', 'worri', 'ginni', 'need', 'get', 'follow', 'chamber', 'youll', 'find', 'ron', 'brilliant', 'fawk', 'wasnt', 'quick', 'enough', 'cours', 'phoenix', 'tear', 'heal', 'power', 'thank', 'right', 'ginni', 'memori', 'see', 'sir', 'couldnt', 'help', 'notic', 'certain', 'thing', 'certain', 'certain', 'similar', 'tom', 'riddl', 'voldemort', 'transfer', 'power', 'sort', 'hat', 'right', 'slytherin', 'ask', 'godric', 'gryffindor', 'dobbi', 'master', 'famili', 'serv', 'malfoy', 'dont', 'worri', 'sir', 'wonder', 'could', 'mr', 'malfoy', 'mr', 'malfoy', 'someth', 'think', 'sir', 'think', 'slip', 'diari', 'ginni', 'weasley', 'cauldron', 'day', 'diagon', 'alley', 'open', 'promis', 'someth', 'never', 'tri', 'save', 'life', 'load', 'help', 'couldnt', 'done', 'without', 'there', 'hogwart', 'without', 'hagrid', 'lumo', 'maxima', 'lumo', 'maxima', 'lumo', 'maxima', 'lumo', 'maxima', 'uncl', 'vernon', 'need', 'sign', 'form', 'noth', 'school', 'stuff', 'ye', 'okay', 'oh', 'yeah', 'yeah', 'ive', 'beaten', 'load', 'time', 'that', 'lie', 'dad', 'wasnt', 'drunk', 'shut', 'shut', 'deserv', 'got', 'keep', 'away', 'yeah', 'tri', 'dont', 'care', 'anywher', 'better', 'fell', 'didnt', 'purpos', 'noth', 'didnt', 'leaki', 'cauldron', 'that', 'london', 'muggl', 'cant', 'see', 'us', 'man', 'escap', 'yeah', 'ive', 'heard', 'hedwig', 'thank', 'minist', 'dont', 'understand', 'broke', 'law', 'underag', 'wizard', 'cant', 'use', 'magic', 'home', 'state', 'thing', 'sir', 'siriu', 'black', 'mean', 'what', 'got', 'hedwig', 'egypt', 'what', 'like', 'mr', 'weasley', 'good', 'see', 'ye', 'upstair', 'everyth', 'thank', 'mr', 'weasley', 'yeah', 'sure', 'yeah', 'great', 'anyth', 'siriu', 'black', 'sir', 'he', 'escap', 'azkaban', 'voldemort', 'sorri', 'kill', 'mr', 'weasley', 'would', 'go', 'look', 'someon', 'want', 'kill', 'didnt', 'mean', 'blow', 'justi', 'lost', 'control', 'lucki', 'arrest', 'actual', 'think', 'he', 'realli', 'asleep', 'got', 'ta', 'tell', 'someth', 'yeah', 'thank', 'ron', 'dont', 'know', 'mayb', 'weve', 'broken', 'thank', 'thing', 'came', 'happen', 'either', 'two', 'know', 'pass', 'someon', 'scream', 'woman', 'find', 'fortuna', 'major', 'fortuna', 'major', 'thank', 'still', 'three', 'year', 'cant', 'even', 'sing', 'hey', 'man', 'shut', 'malfoy', 'hey', 'hey', 'hey', 'brilliant', 'professor', 'least', 'hagrid', 'didnt', 'get', 'fire', 'thought', 'sign', 'could', 'forget', 'guy', 'see', 'later', 'professor', 'ask', 'someth', 'think', 'voldemort', 'first', 'rememb', 'night', 'train', 'dementor', 'faint', 'heard', 'someth', 'woman', 'scream', 'think', 'mother', 'night', 'murder', 'haunt', 'build', 'britain', 'know', 'what', 'go', 'excus', 'sir', 'where', 'professor', 'lupin', 'quidditch', 'tomorrow', 'probabl', 'right', 'sight', 'better', 'normal', 'oh', 'brilliant', 'happen', 'realli', 'meant', 'match', 'professor', 'dementor', 'affect', 'mean', 'everyon', 'els', 'im', 'scare', 'professor', 'need', 'know', 'fight', 'could', 'teach', 'made', 'one', 'train', 'go', 'away', 'made', 'go', 'away', 'guy', 'let', 'go', 'im', 'tri', 'get', 'hogsmead', 'let', 'go', 'come', 'guy', 'dont', 'what', 'rubbish', 'messr', 'mooni', 'wormtail', 'padfoot', 'prong', 'proud', 'present', 'maraud', 'map', 'hang', 'hogwart', 'realli', 'mean', 'map', 'show', 'everyon', 'brilliant', 'get', 'friend', 'betray', 'friend', 'hope', 'find', 'im', 'gon', 'na', 'readi', 'im', 'gon', 'na', 'kill', 'im', 'sure', 'ye', 'expecto', 'patronum', 'shall', 'wand', 'readi', 'expecto', 'patronum', 'expecto', 'expectoexpect', 'that', 'one', 'nasti', 'dementor', 'first', 'time', 'rode', 'broom', 'there', 'anoth', 'happi', 'exactli', 'well', 'happiest', 'ive', 'ever', 'felt', 'complic', 'expecto', 'patronum', 'expecto', 'patronum', 'think', 'ive', 'enough', 'today', 'think', 'mum', 'see', 'face', 'talk', 'talk', 'that', 'memori', 'chose', 'dont', 'even', 'know', 'real', 'best', 'rip', 'piec', 'talk', 'tell', 'spider', 'sorri', 'mischief', 'manag', 'nox', 'sleepwalk', 'dad', 'didnt', 'strut', 'dont', 'mind', 'would', 'appreci', 'could', 'lower', 'wand', 'spare', 'bit', 'parchment', 'messr', 'mooni', 'wormtail', 'padfoot', 'prong', 'offer', 'compliment', 'professor', 'snape', 'request', 'keep', 'larg', 'nose', 'peopl', 'busi', 'sir', 'ye', 'sir', 'professor', 'know', 'dont', 'think', 'map', 'alway', 'work', 'earlier', 'show', 'someon', 'castl', 'someon', 'know', 'dead', 'peter', 'pettigrew', 'saw', 'good', 'night', 'professor', 'hang', 'better', 'take', 'back', 'fine', 'see', 'later', 'professor', 'trelawney', 'sorri', 'noth', 'dont', 'set', 'free', 'hagrid', 'hagrid', 'itll', 'fine', 'itll', 'okay', 'oh', 'ron', 'wait', 'that', 'good', 'ron', 'run', 'ron', 'ron', 'wait', 'ron', 'ron', 'ron', 'come', 'move', 'dont', 'worri', 'hunch', 'hope', 'im', 'wrong', 'come', 'ron', 'dog', 'itll', 'know', 'betray', 'parent', 'your', 'reason', 'theyr', 'dead', 'expelliarmu', 'tell', 'peter', 'pettigrew', 'dead', 'kill', 'map', 'lie', 'could', 'find', 'pettigrew', 'show', 'give', 'ron', 'know', 'well', 'take', 'castl', 'get', 'said', 'wed', 'take', 'castl', 'dementor', 'okay', 'dont', 'worri', 'okay', 'fine', 'ill', 'stay', 'okay', 'didnt', 'think', 'dad', 'would', 'want', 'best', 'friend', 'becom', 'killer', 'besid', 'dead', 'truth', 'die', 'aliv', 'your', 'free', 'know', 'come', 'live', 'expelliarmu', 'come', 'siriu', 'siriu', 'siriu', 'expecto', 'patronum', 'saw', 'dad', 'sent', 'dementor', 'away', 'saw', 'across', 'lake', 'theyr', 'gon', 'na', 'kill', 'true', 'sir', 'siriu', 'innoc', 'happen', 'where', 'ron', 'dont', 'know', 'go', 'hagrid', 'hermion', 'hermion', 'hermion', 'wait', 'hermion', 'pleas', 'tell', 'that', 'us', 'normal', 'mean', 'weve', 'gone', 'back', 'time', 'good', 'punch', 'come', 'hagrid', 'look', 'buckbeak', 'still', 'aliv', 'come', 'id', 'better', 'hurri', 'that', 'pettigrew', 'hermion', 'that', 'betray', 'parent', 'dont', 'expect', 'sit', 'mad', 'hurt', 'get', 'away', 'get', 'okay', 'buckbeak', 'come', 'quickli', 'come', 'us', 'come', 'buckbeak', 'okay', 'quickli', 'hurri', 'okay', 'hurri', 'buckbeak', 'okay', 'way', 'way', 'way', 'wait', 'yeah', 'hermion', 'lake', 'siriu', 'see', 'someon', 'someon', 'made', 'dementor', 'go', 'away', 'dad', 'dad', 'conjur', 'patronu', 'dead', 'know', 'im', 'tell', 'saw', 'see', 'siriu', 'talk', 'he', 'ask', 'come', 'live', 'free', 'ill', 'never', 'go', 'back', 'dursley', 'itll', 'could', 'live', 'countri', 'someplac', 'see', 'sky', 'hell', 'like', 'year', 'azkaban', 'let', 'go', 'thank', 'great', 'he', 'come', 'us', 'poor', 'professor', 'lupin', 'realli', 'tough', 'night', 'siriu', 'come', 'dont', 'worri', 'dad', 'come', 'hell', 'conjur', 'patronu', 'minut', 'right', 'youll', 'see', 'dont', 'worri', 'come', 'siriu', 'expecto', 'patronum', 'right', 'hermion', 'wasnt', 'dad', 'saw', 'earlier', 'saw', 'conjur', 'patronu', 'knew', 'could', 'time', 'well', 'alreadi', 'done', 'make', 'sens', 'want', 'go', 'your', 'innoc', 'mother', 'eye', 'he', 'free', 'dont', 'know', 'honestli', 'ron', 'somebodi', 'two', 'place', 'youv', 'sack', 'resign', 'dumbledor', 'none', 'made', 'differ', 'pettigrew', 'escap', 'talk', 'sent', 'lumo', 'solemnli', 'swear', 'good', 'mischief', 'manag', 'nox']\n",
      "['anyon', 'seen', 'toad', 'boy', 'name', 'nevil', 'lost', 'one', 'oh', 'magic', 'let', 'see', 'sure', 'that', 'real', 'spell', 'well', 'good', 'cours', 'ive', 'tri', 'simpl', 'one', 'theyv', 'work', 'exampl', 'oculu', 'reparo', 'that', 'better', 'isnt', 'holi', 'cricket', 'your', 'harri', 'potter', 'im', 'hermion', 'granger', 'pleasur', 'two', 'better', 'chang', 'robe', 'expect', 'well', 'arriv', 'soon', 'youv', 'got', 'dirt', 'nose', 'way', 'know', 'real', 'ceil', 'bewitch', 'look', 'like', 'night', 'sky', 'read', 'hogwart', 'histori', 'oh', 'okay', 'relax', 'nearli', 'headless', 'nearli', 'headless', 'ive', 'read', 'smoke', 'turn', 'red', 'mean', 'youv', 'forgotten', 'someth', 'harri', 'way', 'heard', 'madam', 'hooch', 'said', 'besid', 'dont', 'even', 'know', 'fli', 'idiot', 'wont', 'make', 'fool', 'blood', 'suppos', 'rd', 'floor', 'forbidden', 'alohomora', 'get', 'wingardium', 'leviosa', 'help', 'help', 'swish', 'flick', 'ron', 'right', 'harri', 'your', 'gon', 'na', 'need', 'strength', 'today', 'thing', 'name', 'dont', 'know', 'look', 'play', 'card', 'pathet', 'weve', 'got', 'final', 'exam', 'come', 'soon', 'alright', 'crucial', 'ingredi', 'forget', 'potion', 'follow', 'cours', 'thing', 'defend', 'stone', 'arent', 'spell', 'enchant', 'bad', 'mean', 'youknowwho', 'right', 'forest', 'relax', 'say', 'trust', 'okay', 'um', 'devil', 'snare', 'devil', 'scareit', 'deadli', 'funbut', 'sulk', 'sun', 'that', 'devil', 'snare', 'hate', 'sunlight', 'lumu', 'solem', 'book', 'clever', 'import', 'thing', 'friendship', 'braveri', 'harri', 'care', 'never', 'better', 'tie', 'slytherin', 'come', 'harri', 'feel', 'strang', 'go', 'home', 'doesnt', 'harri', 'hagrid', 'good', 'see', 'glass', 'oculu', 'reparo', 'okay', 'bye', 'come', 'everyon', 'worri', 'fear', 'name', 'increas', 'fear', 'thing', 'mandrak', 'mandragora', 'use', 'return', 'petrifi', 'origin', 'state', 'also', 'quit', 'danger', 'mandrak', 'cri', 'fatal', 'anyon', 'hear', 'get', 'immobulu', 'least', 'one', 'gryffindor', 'team', 'buy', 'way', 'got', 'pure', 'talent', 'okay', 'ron', 'say', 'someth', 'call', 'mudblood', 'mean', 'dirti', 'blood', 'mudblood', 'foul', 'name', 'someon', 'who', 'muggleborn', 'someon', 'nonmag', 'parent', 'someon', 'like', 'term', 'one', 'usual', 'hear', 'civil', 'convers', 'harri', 'voic', 'voic', 'harri', 'wait', 'fast', 'chamber', 'secret', 'open', 'enemi', 'heir', 'bewar', 'enemi', 'heir', 'bewar', 'written', 'blood', 'that', 'ron', 'went', 'look', 'professor', 'wed', 'found', 'said', 'bit', 'strang', 'isnt', 'hear', 'voic', 'voic', 'hear', 'mr', 'norri', 'turn', 'petrifi', 'strang', 'harri', 'even', 'wizard', 'world', 'hear', 'voic', 'isnt', 'good', 'sign', 'professor', 'wonder', 'could', 'tell', 'us', 'chamber', 'secret', 'muggleborn', 'professor', 'exactli', 'legend', 'tell', 'us', 'lie', 'within', 'chamber', 'ye', 'couldnt', 'tell', 'mcgonagal', 'worri', 'teacher', 'heir', 'slytherin', 'return', 'hogwart', 'question', 'your', 'talk', 'malfoy', 'heard', 'malfoy', 'heir', 'slytherin', 'even', 'arent', 'thick', 'might', 'anoth', 'way', 'mind', 'would', 'difficult', 'mention', 'wed', 'break', 'school', 'rule', 'itll', 'danger', 'danger', 'polyjuic', 'potion', 'properli', 'brew', 'polyjuic', 'potion', 'allow', 'drinker', 'transform', 'temporarili', 'physic', 'form', 'anoth', 'ye', 'exactli', 'tricki', 'ive', 'never', 'seen', 'complic', 'potion', 'month', 'know', 'plan', 'weve', 'got', 'even', 'proper', 'wand', 'riski', 'could', 'hit', 'harri', 'let', 'go', 'finit', 'incantatem', 'okay', 'abl', 'wont', 'mean', 'chamber', 'secret', 'open', 'mayb', 'well', 'wait', 'polyjuic', 'potion', 'know', 'sure', 'one', 'ever', 'come', 'moan', 'myrtl', 'moan', 'myrtl', 'she', 'littl', 'sensit', 'think', 'he', 'right', 'talk', 'snake', 'cant', 'common', 'gift', 'harri', 'bad', 'dont', 'know', 'sound', 'like', 'eg', 'snake', 'someth', 'harri', 'listen', 'there', 'reason', 'symbol', 'slytherin', 'hous', 'serpent', 'salazar', 'slytherin', 'parselmouth', 'could', 'talk', 'snake', 'live', 'thousand', 'year', 'ago', 'know', 'could', 'everyth', 'set', 'need', 'bit', 'your', 'chang', 'also', 'need', 'make', 'sure', 'real', 'crabb', 'goyl', 'cant', 'burst', 'us', 'interrog', 'malfoy', 'ive', 'got', 'work', 'fill', 'simpl', 'sleep', 'draught', 'simpl', 'power', 'theyr', 'asleep', 'hide', 'broomstick', 'cupboard', 'pull', 'hair', 'put', 'uniform', 'ive', 'alreadi', 'got', 'mine', 'millic', 'bulstrod', 'slytherin', 'got', 'robe', 'im', 'go', 'go', 'check', 'polyjuic', 'potion', 'make', 'sure', 'crabb', 'goyl', 'find', 'well', 'exactli', 'one', 'hour', 'chang', 'back', 'add', 'hair', 'cheer', 'ii', 'dont', 'think', 'im', 'go', 'go', 'without', 'go', 'your', 'wast', 'time', 'go', 'away', 'rememb', 'tell', 'polyjuic', 'potion', 'human', 'transform', 'cat', 'hair', 'pluck', 'millic', 'bulstrod', 'robe', 'look', 'face', 'cant', 'hagrid', 'cant', 'look', 'hagrid', 'friend', 'dont', 'go', 'ask', 'gryffindor', 'nobodi', 'els', 'know', 'password', 'unless', 'wasnt', 'student', 'thank', 'sir', 'nichola', 'good', 'back', 'congratul', 'cant', 'believ', 'solv', 'thank', 'oh', 'cat', 'ronald', 'expect', 'natur', 'that', 'rich', 'come', 'owner', 'smelli', 'old', 'shoe', 'brush', 'crookshank', 'ignor', 'mean', 'littl', 'boy', 'harri', 'egyptian', 'use', 'worship', 'cat', 'good', 'morn', 'mr', 'weasley', 'honestli', 'ron', 'funni', 'harri', 'lucki', 'expel', 'come', 'everywher', 'els', 'full', 'professor', 'rj', 'lupin', 'suitcas', 'ronald', 'seem', 'theyll', 'catch', 'black', 'wont', 'mean', 'everyon', 'look', 'stop', 'cant', 'yet', 'ouch', 'ron', 'foot', 'harri', 'harri', 'right', 'one', 'scream', 'harri', 'cours', 'that', 'knew', 'give', 'chocol', 'harri', 'forget', 'that', 'aw', 'load', 'rubbish', 'ive', 'time', 'oh', 'honestli', 'ron', 'ask', 'divin', 'woolli', 'disciplin', 'ancient', 'rune', 'that', 'fascin', 'subject', 'fair', 'dont', 'silli', 'could', 'anyon', 'two', 'class', 'broaden', 'mind', 'use', 'inner', 'eye', 'see', 'futur', 'think', 'theyr', 'funni', 'ignor', 'tah', 'tah', 'tah', 'dah', 'isnt', 'beauti', 'say', 'hello', 'buckbeak', 'wick', 'harri', 'hagrid', 'taken', 'hospit', 'hear', 'draco', 'father', 'furiou', 'havent', 'heard', 'end', 'dufftown', 'that', 'far', 'one', 'know', 'boggart', 'shapeshift', 'take', 'shape', 'whatev', 'person', 'fear', 'that', 'make', 'funni', 'ron', 'sir', 'learn', 'red', 'cap', 'hinkypunk', 'meant', 'start', 'week', 'pleas', 'sir', 'animagu', 'wizard', 'elect', 'turn', 'anim', 'werewolf', 'choic', 'full', 'moon', 'longer', 'rememb', 'hed', 'kill', 'best', 'friend', 'furthermor', 'werewolf', 'respond', 'call', 'kind', 'go', 'harri', 'go', 'harri', 'feel', 'one', 'blame', 'harri', 'dementor', 'arent', 'suppos', 'ground', 'dumbledor', 'furiou', 'save', 'sent', 'meant', 'haunt', 'build', 'britain', 'mention', 'want', 'move', 'bit', 'closer', 'shriek', 'shack', 'hope', 'dont', 'mean', 'harri', 'wont', 'keep', 'hell', 'turn', 'professor', 'mcgonagal', 'arent', 'look', 'madam', 'rosmerta', 'ron', 'fanci', 'harri', 'rude', 'ron', 'look', 'sorri', 'sorri', 'excus', 'excus', 'harri', 'happen', 'beauti', 'day', 'ronald', 'lost', 'rat', 'rubbish', 'well', 'mayb', 'learn', 'take', 'better', 'care', 'pet', 'didnt', 'go', 'hagrid', 'hear', 'mind', 'tri', 'grim', 'possibl', 'cant', 'believ', 'theyr', 'go', 'kill', 'buckbeak', 'horribl', 'foul', 'loathsom', 'evil', 'littl', 'cockroach', 'felt', 'good', 'well', 'stay', 'think', 'owe', 'someon', 'apolog', 'meant', 'thought', 'sawnev', 'mind', 'ron', 'ron', 'harri', 'realiz', 'tree', 'ron', 'ron', 'duck', 'harri', 'oh', 'im', 'sorri', 'suppos', 'goe', 'shriek', 'shack', 'arent', 'ron', 'your', 'okay', 'want', 'kill', 'harri', 'kill', 'us', 'trust', 'time', 'youv', 'friend', 'he', 'werewolf', 'that', 'he', 'miss', 'class', 'sinc', 'professor', 'snape', 'set', 'essay', 'attack', 'teacher', 'go', 'ill', 'stay', 'look', 'realli', 'pain', 'im', 'sure', 'madam', 'pomfrey', 'fix', 'heartbeat', 'harri', 'harri', 'wait', 'wait', 'professor', 'professor', 'lupin', 'harri', 'listen', 'harri', 'theyv', 'captur', 'siriu', 'minut', 'dementor', 'gon', 'na', 'perform', 'kiss', 'wors', 'much', 'wors', 'theyr', 'go', 'suck', 'soul', 'headmast', 'youv', 'got', 'stop', 'theyv', 'got', 'wrong', 'man', 'point', 'know', 'truth', 'pleas', 'believ', 'us', 'sorri', 'ron', 'see', 'cant', 'walk', 'come', 'cant', 'seen', 'foul', 'loathsomeevil', 'littl', 'cockroach', 'timeturn', 'harri', 'mcgonagal', 'gave', 'first', 'term', 'ive', 'get', 'lesson', 'year', 'ye', 'dumbledor', 'obvious', 'want', 'us', 'return', 'moment', 'clearli', 'someth', 'happen', 'want', 'us', 'chang', 'thank', 'malfoy', 'come', 'felt', 'good', 'cours', 'rememb', 'dumbledor', 'said', 'succeed', 'one', 'innoc', 'life', 'could', 'spare', 'let', 'go', 'fudg', 'see', 'buckbeak', 'steal', 'otherwis', 'hell', 'think', 'hagrid', 'set', 'free', 'harri', 'cant', 'ye', 'must', 'harri', 'your', 'hagrid', 'hut', 'go', 'burst', 'youll', 'think', 'youv', 'gone', 'mad', 'aw', 'thing', 'happen', 'wizard', 'meddl', 'time', 'harri', 'cant', 'seen', 'fudg', 'come', 'arent', 'leav', 'arent', 'leav', 'sorri', 'come', 'back', 'door', 'go', 'realli', 'hair', 'look', 'like', 'back', 'thought', 'saw', 'never', 'mind', 'okay', 'go', 'harri', 'go', 'keep', 'tri', 'come', 'quickli', 'come', 'come', 'buckbeak', 'come', 'get', 'nice', 'dead', 'ferret', 'come', 'come', 'beaki', 'come', 'buckbeak', 'come', 'buckbeak', 'come', 'save', 'siriu', 'idea', 'look', 'lupin', 'snape', 'come', 'wait', 'least', 'someon', 'enjoy', 'yeah', 'patronu', 'heard', 'snape', 'tell', 'dumbledor', 'accord', 'realli', 'power', 'wizard', 'could', 'conjur', 'harri', 'dad', 'come', 'that', 'great', 'harri', 'save', 'life', 'yeah', 'didnt', 'think', 'run', 'scari', 'horribl', 'harri', 'listen', 'one', 'come', 'your', 'die', 'harri', 'dont', 'like', 'fli', 'bombarda', 'go', 'what', 'talk', 'harri', 'came', 'fast', 'harri']\n",
      "['excus', 'mind', 'everywher', 'els', 'full', 'im', 'ron', 'way', 'ron', 'weasley', 'true', 'mean', 'realli', 'scar', 'wick', 'thank', 'im', 'set', 'mean', 'everi', 'flavor', 'there', 'chocol', 'peppermint', 'there', 'also', 'spinach', 'liver', 'tripe', 'georg', 'swear', 'got', 'bogeyflavour', 'one', 'spell', 'besid', 'card', 'want', 'pack', 'got', 'famou', 'witch', 'wizard', 'ive', 'got', 'watch', 'oh', 'that', 'rotten', 'luck', 'theyv', 'got', 'one', 'good', 'jump', 'begin', 'got', 'six', 'well', 'cant', 'expect', 'hang', 'around', 'day', 'scabber', 'way', 'pathet', 'isnt', 'fred', 'gave', 'spell', 'turn', 'yellow', 'want', 'see', 'sunshin', 'daisi', 'butter', 'mellow', 'turn', 'stupid', 'fat', 'rat', 'yellow', 'im', 'ron', 'weasley', 'wick', 'mental', 'one', 'im', 'tell', 'isnt', 'witch', 'wizard', 'went', 'bad', 'wasnt', 'slytherin', 'harri', 'know', 'your', 'nearli', 'headless', 'nick', 'look', 'one', 'made', 'imagin', 'look', 'old', 'mcgonagal', 'face', 'late', 'bloodi', 'brilliant', 'turn', 'rum', 'actual', 'manag', 'weak', 'tea', 'yesterday', 'mail', 'shut', 'harri', 'seeker', 'first', 'year', 'never', 'make', 'hous', 'team', 'must', 'youngest', 'quidditch', 'player', 'anybodi', 'feel', 'likew', 'shouldnt', 'alohomora', 'think', 'troll', 'left', 'dungeon', 'mind', 'save', 'life', 'friend', 'take', 'bit', 'toast', 'mate', 'go', 'harri', 'wake', 'come', 'harri', 'wake', 'theyr', 'realli', 'rare', 'wonder', 'gave', 'ill', 'right', 'back', 'wan', 'na', 'play', 'chess', 'wan', 'na', 'go', 'visit', 'hagrid', 'harri', 'know', 'your', 'think', 'dont', 'there', 'someth', 'right', 'mirror', 'im', 'readi', 'ask', 'question', 'forgot', 'copi', 'that', 'insult', 'dont', 'trust', 'us', 'dumbledor', 'leglock', 'curs', 'got', 'start', 'stand', 'peopl', 'nevil', 'dumbledor', 'particularli', 'famou', 'defeat', 'dark', 'wizard', 'grindelwald', 'discoveri', 'twelv', 'use', 'dragon', 'bloodand', 'work', 'alchemi', 'partner', 'nichola', 'flamel', 'okay', 'your', 'littl', 'scari', 'sometimesy', 'know', 'brilliant', 'scari', 'gon', 'na', 'harri', 'yeah', 'whew', 'lucki', 'didnt', 'panic', 'well', 'white', 'move', 'first', 'thenw', 'play', 'want', 'stop', 'snape', 'get', 'stone', 'harri', 'go', 'know', 'hermion', 'knightto', 'h', 'right', 'hi', 'harri', 'rescu', 'cours', 'come', 'get', 'trunk', 'youd', 'better', 'stand', 'back', 'let', 'go', 'come', 'come', 'harri', 'hurri', 'ive', 'got', 'harri', 'drive', 'harri', 'never', 'travel', 'floo', 'powder', 'mum', 'diagon', 'alley', 'mum', 'fanci', 'dont', 'know', 'gateway', 'seal', 'reason', 'harri', 'cant', 'get', 'mayb', 'mum', 'dad', 'cant', 'get', 'back', 'car', 'aaa', 'right', 'oh', 'invis', 'booster', 'must', 'faulti', 'okay', 'cant', 'far', 'behind', 'must', 'get', 'close', 'haaaarryyi', 'hold', 'oonnn', 'take', 'hand', 'hold', 'yeah', 'welcom', 'home', 'work', 'stop', 'stop', 'stop', 'wand', 'look', 'wand', 'what', 'happen', 'scabber', 'your', 'okay', 'caaaar', 'dad', 'gon', 'na', 'kill', 'honestli', 'professor', 'snape', 'think', 'damag', 'us', 'well', 'go', 'get', 'stuff', 'your', 'go', 'expel', 'us', 'arent', 'say', 'im', 'doom', 'bloodi', 'bird', 'menac', 'smell', 'troubl', 'nimbu', 'get', 'youll', 'pay', 'one', 'malfoy', 'eat', 'slug', 'disgust', 'hear', 'kill', 'dont', 'like', 'spider', 'what', 'mad', 'vera', 'verto', 'three', 'guess', 'think', 'true', 'think', 'realli', 'chamber', 'secret', 'let', 'think', 'know', 'think', 'muggleborn', 'scum', 'cours', 'heard', 'youll', 'next', 'mudblood', 'crabb', 'goyl', 'must', 'know', 'mayb', 'could', 'trick', 'tell', 'mean', 'harri', 'drink', 'stuff', 'well', 'turn', 'crabb', 'goyl', 'wick', 'malfoy', 'tell', 'us', 'anyth', 'ill', 'stop', 'cours', 'dont', 'see', 'luciu', 'malfoy', 'must', 'open', 'school', 'he', 'taught', 'draco', 'enlighten', 'brew', 'potion', 'broad', 'daylight', 'middl', 'girl', 'lavatori', 'dont', 'think', 'well', 'get', 'caught', 'who', 'moan', 'myrtl', 'care', 'your', 'parselmouth', 'didnt', 'tell', 'us', 'that', 'said', 'heard', 'speak', 'parseltongu', 'snake', 'languag', 'exactli', 'whole', 'school', 'gon', 'na', 'think', 'your', 'greatgreatgreat', 'grandson', 'whose', 'hair', 'rip', 'yeah', 'right', 'thick', 'could', 'get', 'essenc', 'crabb', 'think', 'im', 'gon', 'na', 'sick', 'harri', 'bloodi', 'hell', 'bloodi', 'hell', 'where', 'hermion', 'mean', 'stomachach', 'scar', 'close', 'look', 'tail', 'spoken', 'hermion', 'yuck', 'cant', 'hurt', 'someon', 'throw', 'someth', 'mean', 'itll', 'go', 'right', 'dont', 'even', 'know', 'tom', 'riddl', 'sound', 'like', 'dirti', 'rotten', 'snitch', 'would', 'cheer', 'visit', 'hello', 'hagrid', 'tell', 'us', 'set', 'anyth', 'mad', 'hairi', 'loos', 'castl', 'late', 'whoever', 'must', 'look', 'someth', 'hermion', 'heard', 'mcgonagal', 'allow', 'leav', 'tower', 'except', 'class', 'that', 'dad', 'boss', 'corneliu', 'fudg', 'minist', 'magic', 'hagrid', 'right', 'dumbledor', 'gone', 'therel', 'attack', 'day', 'theyr', 'head', 'dark', 'forest', 'spider', 'couldnt', 'follow', 'butterfli', 'harri', 'dont', 'like', 'harri', 'dont', 'like', 'go', 'back', 'harri', 'harri', 'panic', 'know', 'spell', 'where', 'hermion', 'need', 'glad', 'thank', 'fli', 'gear', 'jam', 'im', 'tri', 'follow', 'spider', 'follow', 'spider', 'hagrid', 'ever', 'get', 'azkaban', 'ill', 'kill', 'mean', 'point', 'send', 'us', 'found', 'what', 'kill', 'look', 'peopl', 'eye', 'one', 'dead', 'mr', 'norri', 'im', 'pretti', 'sure', 'didnt', 'havea', 'camera', 'mirror', 'harri', 'how', 'basilisk', 'get', 'around', 'dirti', 'great', 'snake', 'someon', 'would', 'seen', 'pipe', 'use', 'plumb', 'moan', 'myrtl', 'skeleton', 'lie', 'chamber', 'forev', 'ginni', 'sister', 'your', 'defens', 'dark', 'art', 'teacher', 'cant', 'go', 'anyth', 'say', 'someth', 'harri', 'say', 'someth', 'parseltongu', 'better', 'us', 'go', 'what', 'bloodi', 'hell', 'whatev', 'shed', 'must', 'feet', 'long', 'heart', 'lion', 'one', 'harri', 'harri', 'im', 'fine', 'ron', 'weasley', 'lockhart', 'memori', 'charm', 'backfir', 'hasnt', 'got', 'clue', 'okay', 'thank', 'sir', 'welcom', 'back', 'hermion', 'im', 'warn', 'hermion', 'keep', 'beast', 'away', 'scabber', 'ill', 'turn', 'tea', 'cozi', 'cat', 'told', 'look', 'like', 'pig', 'hair', 'harri', 'brilliant', 'load', 'old', 'stuff', 'like', 'mummi', 'tomb', 'even', 'scabber', 'enjoy', 'along', 'dung', 'beetl', 'havent', 'shown', 'anyon', 'brilliant', 'still', 'think', 'brilliant', 'think', 'know', 'everyth', 'know', 'everyth', 'oh', 'let', 'get', 'straight', 'siriu', 'black', 'escap', 'azkaban', 'come', 'sure', 'except', 'one', 'ever', 'broken', 'azkaban', 'he', 'murder', 'rave', 'lunat', 'what', 'go', 'there', 'someth', 'move', 'think', 'someon', 'come', 'aboard', 'bloodi', 'hell', 'what', 'happen', 'well', 'sort', 'went', 'rigid', 'thought', 'mayb', 'fit', 'someth', 'felt', 'weird', 'though', 'like', 'id', 'never', 'cheer', 'shove', 'malfoy', 'green', 'that', 'monkey', 'give', 'one', 'hey', 'nevil', 'tri', 'eleph', 'oh', 'dont', 'tri', 'one', 'look', 'face', 'come', 'sure', 'yeah', 'harri', 'got', 'sort', 'wonki', 'cross', 'that', 'trial', 'suffer', 'could', 'sun', 'that', 'happi', 'your', 'gon', 'na', 'suffer', 'your', 'gon', 'na', 'happi', 'dont', 'think', 'grim', 'thing', 'got', 'anyth', 'siriu', 'black', 'ancient', 'rune', 'exactli', 'mani', 'class', 'take', 'hang', 'that', 'possibl', 'ancient', 'rune', 'time', 'divin', 'two', 'class', 'your', 'suppos', 'stroke', 'hagrid', 'exactli', 'listen', 'idiot', 'he', 'realli', 'lay', 'thick', 'isnt', 'get', 'riddikulu', 'honeyduk', 'sweetshop', 'brilliant', 'noth', 'beat', 'zonko', 'joke', 'shop', 'never', 'got', 'go', 'shriek', 'shack', 'heard', 'probabl', 'nevil', 'forgot', 'password', 'oh', 'your', 'serv', 'right', 'terribl', 'singer', 'werewolv', 'come', 'see', 'come', 'he', 'got', 'point', 'know', 'look', 'bit', 'peaki', 'doesnt', 'well', 'fell', 'broom', 'there', 'someth', 'els', 'know', 'fell', 'broom', 'sort', 'blew', 'whomp', 'willow', 'andwel', 'twice', 'actual', 'im', 'fine', 'shut', 'mouth', 'malfoy', 'what', 'malfoy', 'lost', 'ski', 'bloodi', 'hell', 'harri', 'funni', 'weasel', 'never', 'told', 'maraud', 'map', 'sure', 'along', 'invis', 'cloak', 'that', 'true', 'thick', 'head', 'merri', 'christma', 'gorgeou', 'unless', 'youv', 'rip', 'piec', 'havent', 'lost', 'anyth', 'cat', 'kill', 'harri', 'youv', 'seen', 'way', 'bloodthirsti', 'beast', 'alway', 'lurk', 'scabber', 'gone', 'cat', 'kill', 'theyr', 'sack', 'spider', 'there', 'there', 'spider', 'spider', 'want', 'tapdanc', 'dont', 'wan', 'na', 'tapdanc', 'right', 'yeah', 'tell', 'ill', 'tell', 'she', 'gone', 'mental', 'hermion', 'mean', 'wasnt', 'alway', 'mental', 'open', 'everyon', 'see', 'im', 'go', 'back', 'see', 'got', 'wors', 'hermion', 'he', 'worth', 'good', 'brilliant', 'scabber', 'your', 'aliv', 'right', 'next', 'time', 'see', 'crookshank', 'ill', 'let', 'know', 'let', 'go', 'bit', 'scabber', 'scabber', 'come', 'back', 'scabber', 'bit', 'harri', 'hermion', 'run', 'grim', 'ah', 'harri', 'harryhelp', 'trap', 'he', 'dog', 'he', 'animagu', 'harri', 'he', 'mental', 'scabber', 'famili', 'tri', 'scabber', 'leav', 'alon', 'get', 'bit', 'bit', 'almost', 'tore', 'leg', 'better', 'go', 'im', 'fine', 'go', 'pain', 'might', 'chop', 'late', 'ruin', 'itll', 'chop', 'hermion', 'bad', 'idea', 'bad', 'idea', 'nice', 'doggi', 'nice', 'doggi', 'scabber', 'he', 'rat', 'sir', 'he', 'realli', 'rat', 'rat', 'brother', 'perci', 'rat', 'gave', 'owl', 'bloodi', 'hell', 'hermion', 'he', 'worth', 'good', 'brilliant', 'scabber', 'your', 'aliv', 'let', 'go', 'get', 'talk', 'your', 'stand', 'back', 'said', 'ill', 'take', 'upstair', 'dont', 'settl', 'quiet', 'let', 'man', 'didnt', 'mean', 'open', 'harri', 'badli', 'wrap', 'made', 'one', 'know']\n",
      "stemming 완료\n"
     ]
    }
   ],
   "source": [
    "import nltk\n",
    "import numpy as np\n",
    "import pandas as pd\n",
    "\n",
    "from nltk import sent_tokenize, word_tokenize\n",
    "from nltk.stem import PorterStemmer\n",
    "from nltk.corpus import stopwords\n",
    "\n",
    "import re\n",
    "import glob   \n",
    "\n",
    "'''HP data Normalization and Stemming'''\n",
    "# bag_of_words = {} #{등장인물 : 해당인물의 stemData, ~}\n",
    "h_normalized_text = []\n",
    "h_stemData = []\n",
    "\n",
    "ps=PorterStemmer()\n",
    "stop_words = set(stopwords.words('english'))\n",
    "input_file = r'.\\data\\\\test\\\\'\n",
    "\n",
    "allHPfile_list = glob.glob(os.path.join(input_file, 'HP_*'))\n",
    "print(allHPfile_list)\n",
    "\n",
    "harryPotter={}\n",
    "for file in allHPfile_list:\n",
    "    df = pd.read_csv(file, sep=',', encoding='iso-8859-1')\n",
    "    harryPotter[df['Character'][0]] = df['Sentence'].ravel()\n",
    "\n",
    "print(\"stemming 시작\")\n",
    "for element in harryPotter.keys():\n",
    "    h_normalized_text = []\n",
    "    h_stemData = []\n",
    "    for sentence in harryPotter[element]:\n",
    "        h_clean_sentence = re.sub('[^A-Za-z\\s]+', '', sentence.lower())\n",
    "        h_normalized_text.append(h_clean_sentence)\n",
    "    for sentence in h_normalized_text:\n",
    "        tokenData = nltk.word_tokenize(sentence)\n",
    "        for word in tokenData:\n",
    "            if word not in stop_words:\n",
    "                h_stemData.append(ps.stem(word))\n",
    "    harryPotter[element] = h_stemData\n",
    "    print(harryPotter[element])\n",
    "\n",
    "print(\"stemming 완료\")"
   ]
  },
  {
   "cell_type": "code",
   "execution_count": 22,
   "metadata": {},
   "outputs": [
    {
     "output_type": "stream",
     "name": "stdout",
     "text": [
      "  (0, 38733)\t0.015074029239194804\n  (0, 38708)\t0.027775141727860046\n  (0, 38578)\t0.01836618968207626\n  (0, 38359)\t0.035599013924146654\n  (0, 38346)\t0.03455395991323384\n  (0, 38324)\t0.05275201062479306\n  (0, 38051)\t0.021534953120006046\n  (0, 37964)\t0.05888993031465197\n  (0, 37892)\t0.011056175947563598\n  (0, 37804)\t0.033434095273694765\n  (0, 37752)\t0.011535924584955032\n  (0, 37711)\t0.03200884589074846\n  (0, 37588)\t0.055254951444815306\n  (0, 37580)\t0.04890953804469501\n  (0, 37475)\t0.02062841204020602\n  (0, 37437)\t0.020123335670527903\n  (0, 37339)\t0.025298583553423275\n  (0, 37319)\t0.01303708116998017\n  (0, 37306)\t0.019747343507305358\n  (0, 37273)\t0.030783160520346315\n  (0, 36966)\t0.07122735039393112\n  (0, 36931)\t0.04738032427553982\n  (0, 36837)\t0.11615732468422096\n  (0, 36748)\t0.028003274345576996\n  (0, 36624)\t0.02576865728289446\n  :\t:\n  (4, 2826)\t0.024664081766815914\n  (4, 2788)\t0.028905960949153802\n  (4, 2780)\t0.05560360077103729\n  (4, 2649)\t0.00923887707074336\n  (4, 2456)\t0.017328446181381883\n  (4, 2218)\t0.006710398944689755\n  (4, 2116)\t0.012737498290302848\n  (4, 2079)\t0.013925581771189069\n  (4, 1973)\t0.010185695720392917\n  (4, 1694)\t0.03661316540337922\n  (4, 1678)\t0.008506973708635488\n  (4, 1643)\t0.017971753138333678\n  (4, 1400)\t0.02657663756764063\n  (4, 1214)\t0.04199264186248906\n  (4, 1026)\t0.011836337237898347\n  (4, 987)\t0.005688208019798414\n  (4, 951)\t0.020321419602530557\n  (4, 937)\t0.01013586004586047\n  (4, 930)\t0.009468486704426819\n  (4, 895)\t0.013346390602151328\n  (4, 853)\t0.028905960949153802\n  (4, 824)\t0.03622413880834023\n  (4, 669)\t0.018256840891495967\n  (4, 329)\t0.012788476741123522\n  (4, 69)\t0.02574526606739539\n['DUMBLEDORE' 'HAGRID' 'HARRY' 'HERMIONE' 'RON']\n"
     ]
    },
    {
     "output_type": "execute_result",
     "data": {
      "text/plain": [
       "'for element in harryPotter.keys():\\n    tfidf.fit(harryPotter[element])\\n    script = tfidf.transform(harryPotter[element])\\n    X.append(script)\\n    y.append(element)\\n\\nprint(X.shape)'"
      ]
     },
     "metadata": {},
     "execution_count": 22
    }
   ],
   "source": [
    "'''HP data Vectorization'''\n",
    "# import numpy as np\n",
    "# from sklearn.feature_extraction.text import TfidfVectorizer\n",
    "\n",
    "hx_stemData = []\n",
    "hy=[]\n",
    "\n",
    "for element in harryPotter.keys():\n",
    "    hx_stemData.append(harryPotter[element])\n",
    "    hy.append(element)\n",
    "    \n",
    "HX_data = tfidf.transform(hx_stemData)\n",
    "print(HX_data)\n",
    "HY_data = np.array(hy)\n",
    "print(HY_data)\n",
    "\n",
    "'''for element in harryPotter.keys():\n",
    "    tfidf.fit(harryPotter[element])\n",
    "    script = tfidf.transform(harryPotter[element])\n",
    "    X.append(script)\n",
    "    y.append(element)\n",
    "\n",
    "print(X.shape)'''"
   ]
  },
  {
   "cell_type": "code",
   "execution_count": 23,
   "metadata": {},
   "outputs": [
    {
     "output_type": "stream",
     "name": "stdout",
     "text": [
      "['ESTJ' 'ESTJ' 'INTP' 'ESFJ' 'ESFP']\n"
     ]
    }
   ],
   "source": [
    "import joblib  \n",
    "from xgboost import XGBClassifier\n",
    "from sklearn.model_selection import train_test_split\n",
    "from matplotlib import pyplot\n",
    "\n",
    "model = joblib.load('XGBoost_undersample.pkl')\n",
    "# xgb_model_loaded.get_xgb_params()    # Get xgboost specific parameters.\n",
    "harrypotter_predict = model.predict(HX_data)\n",
    "print(harrypotter_predict)"
   ]
  },
  {
   "cell_type": "code",
   "execution_count": null,
   "metadata": {},
   "outputs": [],
   "source": []
  }
 ]
}