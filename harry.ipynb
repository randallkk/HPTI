{
 "metadata": {
  "language_info": {
   "codemirror_mode": {
    "name": "ipython",
    "version": 3
   },
   "file_extension": ".py",
   "mimetype": "text/x-python",
   "name": "python",
   "nbconvert_exporter": "python",
   "pygments_lexer": "ipython3",
   "version": "3.7.4-final"
  },
  "orig_nbformat": 2,
  "kernelspec": {
   "name": "python3",
   "display_name": "Python 3"
  }
 },
 "nbformat": 4,
 "nbformat_minor": 2,
 "cells": [
  {
   "cell_type": "code",
   "execution_count": 9,
   "metadata": {},
   "outputs": [],
   "source": [
    "import os\n",
    "import pandas as pd\n",
    "import numpy as np\n",
    "%matplotlib inline\n",
    "import matplotlib.pyplot as plt\n",
    "import re\n",
    "import urllib.request\n",
    "from tensorflow.keras.preprocessing.text import Tokenizer\n",
    "from tensorflow.keras.preprocessing.sequence import pad_sequences"
   ]
  },
  {
   "cell_type": "code",
   "execution_count": 31,
   "metadata": {},
   "outputs": [
    {
     "output_type": "stream",
     "name": "stdout",
     "text": [
      "['.\\\\data\\\\Harry Potter 1.csv', '.\\\\data\\\\Harry Potter 2.csv', '.\\\\data\\\\Harry Potter 3.csv']\n"
     ]
    }
   ],
   "source": [
    "#Read all the needed datasets\n",
    "import glob\n",
    "\n",
    "input_file = r'.\\data' # csv파일들이 있는 디렉토리 위치\n",
    "output_file = r'.\\data\\Harry Potter.csv' # 병합하고 저장하려는 파일명\n",
    "\n",
    "allFile_list = glob.glob(os.path.join(input_file, 'Harry Potter *')) # glob함수로 sales_로 시작하는 파일들을 모은다\n",
    "print(allFile_list)\n",
    "allData = [] # 읽어 들인 csv파일 내용을 저장할 빈 리스트를 하나 만든다\n",
    "for file in allFile_list:\n",
    "    df = pd.read_csv(file,sep=';', names = ['Character', 'Sentence'], encoding='iso-8859-1') # for구문으로 csv파일들을 읽어 들인다\n",
    "    allData.append(df) # 빈 리스트에 읽어 들인 내용을 추가한다\n",
    "\n",
    "dataCombine = pd.concat(allData, axis=0, ignore_index=True) # 리스트의 내용을 수직으로 병합. ignore_index=True는 인데스 값이 기존 순서를 무시하고 순서대로 정렬되도록 한다.\n",
    "dataCombine.to_csv(output_file, index=False) # to_csv함수로 저장한다. 인데스를 빼려면 False로 설정\n",
    "\n",
    "harry=pd.read_csv('./data/Harry Potter.csv')\n",
    "harry[:10]\n",
    "\n",
    "'''harry1=pd.read_csv('./data/Harry Potter 1.csv',sep=';',encoding='iso-8859-1')'''"
   ]
  },
  {
   "cell_type": "code",
   "execution_count": 39,
   "metadata": {},
   "outputs": [
    {
     "output_type": "execute_result",
     "data": {
      "text/plain": [
       "               Sentence\n",
       "Character              \n",
       "Woman                 1\n",
       "Ginny                 1\n",
       "Gryffindors           1\n",
       "George                1\n",
       "Madam Hooch           1\n",
       "...                 ...\n",
       "Ron                  84\n",
       "Ron                 104\n",
       "Harry               136\n",
       "Hagrid              149\n",
       "Harry               155\n",
       "\n",
       "[91 rows x 1 columns]"
      ],
      "text/html": "<div>\n<style scoped>\n    .dataframe tbody tr th:only-of-type {\n        vertical-align: middle;\n    }\n\n    .dataframe tbody tr th {\n        vertical-align: top;\n    }\n\n    .dataframe thead th {\n        text-align: right;\n    }\n</style>\n<table border=\"1\" class=\"dataframe\">\n  <thead>\n    <tr style=\"text-align: right;\">\n      <th></th>\n      <th>Sentence</th>\n    </tr>\n    <tr>\n      <th>Character</th>\n      <th></th>\n    </tr>\n  </thead>\n  <tbody>\n    <tr>\n      <th>Woman</th>\n      <td>1</td>\n    </tr>\n    <tr>\n      <th>Ginny</th>\n      <td>1</td>\n    </tr>\n    <tr>\n      <th>Gryffindors</th>\n      <td>1</td>\n    </tr>\n    <tr>\n      <th>George</th>\n      <td>1</td>\n    </tr>\n    <tr>\n      <th>Madam Hooch</th>\n      <td>1</td>\n    </tr>\n    <tr>\n      <th>...</th>\n      <td>...</td>\n    </tr>\n    <tr>\n      <th>Ron</th>\n      <td>84</td>\n    </tr>\n    <tr>\n      <th>Ron</th>\n      <td>104</td>\n    </tr>\n    <tr>\n      <th>Harry</th>\n      <td>136</td>\n    </tr>\n    <tr>\n      <th>Hagrid</th>\n      <td>149</td>\n    </tr>\n    <tr>\n      <th>Harry</th>\n      <td>155</td>\n    </tr>\n  </tbody>\n</table>\n<p>91 rows × 1 columns</p>\n</div>"
     },
     "metadata": {},
     "execution_count": 39
    }
   ],
   "source": [
    "'''harry1.groupby('Character').count().sort_values(by='Sentence',ascending='False')'''"
   ]
  },
  {
   "cell_type": "code",
   "execution_count": null,
   "metadata": {},
   "outputs": [],
   "source": [
    "# data 정제하기\n",
    "\n",
    "harry1['Sentence'] = harry1['Sentence'].str.replace('[^a-zA-Z ]', '') #알파벳과 공백을 제외하고 모두 제거"
   ]
  },
  {
   "cell_type": "code",
   "execution_count": null,
   "metadata": {},
   "outputs": [],
   "source": []
  }
 ]
}