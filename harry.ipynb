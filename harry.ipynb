{
 "metadata": {
  "language_info": {
   "codemirror_mode": {
    "name": "ipython",
    "version": 3
   },
   "file_extension": ".py",
   "mimetype": "text/x-python",
   "name": "python",
   "nbconvert_exporter": "python",
   "pygments_lexer": "ipython3",
   "version": "3.7.4-final"
  },
  "orig_nbformat": 2,
  "kernelspec": {
   "name": "python3",
   "display_name": "Python 3"
  }
 },
 "nbformat": 4,
 "nbformat_minor": 2,
 "cells": [
  {
   "cell_type": "code",
   "execution_count": 18,
   "metadata": {},
   "outputs": [],
   "source": [
    "import os\n",
    "import pandas as pd\n",
    "import numpy as np\n",
    "%matplotlib inline\n",
    "import matplotlib.pyplot as plt\n",
    "import re\n",
    "import urllib.request\n",
    "from tensorflow.keras.preprocessing.text import Tokenizer\n",
    "from tensorflow.keras.preprocessing.sequence import pad_sequences"
   ]
  },
  {
   "cell_type": "code",
   "execution_count": 32,
   "metadata": {},
   "outputs": [
    {
     "output_type": "stream",
     "name": "stdout",
     "text": [
      "['.\\\\data\\\\Harry Potter 1.csv', '.\\\\data\\\\Harry Potter 2.csv', '.\\\\data\\\\Harry Potter 3.csv']\n[                                                     Sentence\nCharacter                                                    \nCharacter                                            Sentence\nDumbledore  I should've known that you would be here, Prof...\nMcGonagall                Good evening, Professor Dumbledore.\nMcGonagall                        Are the rumors true, Albus?\nDumbledore                          I'm afraid so, professor.\n...                                                       ...\nHagrid      Oh, listen, Harry, if that dolt of a cousin of...\nHarry       But Hagrid, we're not allowed to do magic away...\nHagrid      I do. But your cousin don't, do he? Eh? Off yo...\nHermione          Feels strange to be going home, doesn't it?\nHarry                         I'm not going home. Not really.\n\n[1588 rows x 1 columns],                                                     Sentence\nCharacter                                                   \nCharacter                                           Sentence\nHARRY                          I cant let you out, Hedwig. \nHARRY       Im not allowed to use magic outside of school. \nHARRY                              Besides, if Uncle Vernon\nVERNON                                         Harry Potter!\n...                                                      ...\nHAGRID                                       Sorry I'm late.\nHAGRID     The owl that delivered my release papers got a...\nHAGRID                         Some ruddy bird called Errol.\nHAGRID     And I'd just like to say that if it hadn't bee...\nHARRY               There's no Hogwarts without you, Hagrid.\n\n[1701 rows x 1 columns],                                             Sentence\nCharacter                                           \nCHARACTER                                   SENTENCE\nHARRY                                Lumos Maxima...\nHARRY                                Lumos Maxima...\nHARRY                                Lumos Maxima...\nHARRY                               Lumos... MAXIMA!\n...                                              ...\nHERMIONE                      How fast is it, Harry?\nHARRY                                         Lumos.\nHARRY      I solemnly swear that I am up to no good.\nHARRY                              Mischief managed.\nHARRY                                           Nox.\n\n[1639 rows x 1 columns]]\n"
     ]
    },
    {
     "output_type": "execute_result",
     "data": {
      "text/plain": [
       "\"harry1=pd.read_csv('./data/Harry Potter 1.csv', sep=';', encoding='iso-8859-1')\""
      ]
     },
     "metadata": {},
     "execution_count": 32
    }
   ],
   "source": [
    "#Read all the needed datasets\n",
    "import glob\n",
    "\n",
    "input_file = r'.\\data' # csv파일들이 있는 디렉토리 위치\n",
    "output_file = r'.\\data\\Harry Potter.csv' # 병합하고 저장하려는 파일명\n",
    "\n",
    "allFile_list = glob.glob(os.path.join(input_file, 'Harry Potter *')) # glob함수로 sales_로 시작하는 파일들을 모은다\n",
    "print(allFile_list)\n",
    "allData = [] # 읽어 들인 csv파일 내용을 저장할 빈 리스트를 하나 만든다\n",
    "for file in allFile_list:\n",
    "    df = pd.read_csv(file,sep=';', names = ['Character', 'Sentence'], encoding='iso-8859-1', index_col=0) # for구문으로 csv파일들을 읽어 들인다\n",
    "    allData.append(df) # 빈 리스트에 읽어 들인 내용을 추가한다\n",
    "print(allData)\n",
    "\n",
    "dataCombine = pd.concat(allData, axis=0, ignore_index=True) # 리스트의 내용을 수직으로 병합. ignore_index=True는 인데스 값이 기존 순서를 무시하고 순서대로 정렬되도록 한다.\n",
    "dataCombine.to_csv(output_file, index=False) # to_csv함수로 저장한다. 인데스를 빼려면 False로 설정\n",
    "\n",
    "harry=pd.read_csv('./data/Harry Potter.csv')\n",
    "harry\n",
    "\n",
    "'''harry1=pd.read_csv('./data/Harry Potter 1.csv', sep=';', encoding='iso-8859-1')'''"
   ]
  },
  {
   "cell_type": "code",
   "execution_count": 37,
   "metadata": {},
   "outputs": [
    {
     "output_type": "stream",
     "name": "stdout",
     "text": [
      "                                               Sentence\n",
      "0                                              Sentence\n",
      "1     I should've known that you would be here, Prof...\n",
      "2                   Good evening, Professor Dumbledore.\n",
      "3                           Are the rumors true, Albus?\n",
      "4                             I'm afraid so, professor.\n",
      "...                                                 ...\n",
      "4923                             How fast is it, Harry?\n",
      "4924                                             Lumos.\n",
      "4925          I solemnly swear that I am up to no good.\n",
      "4926                                  Mischief managed.\n",
      "4927                                               Nox.\n",
      "\n",
      "[4928 rows x 1 columns]\n",
      "0                                                Sentence\n",
      "1       I shouldve known that you would be here Profes...\n",
      "2                       Good evening Professor Dumbledore\n",
      "3                               Are the rumors true Albus\n",
      "4                                  Im afraid so professor\n",
      "                              ...                        \n",
      "4923                                 How fast is it Harry\n",
      "4924                                                Lumos\n",
      "4925             I solemnly swear that I am up to no good\n",
      "4926                                     Mischief managed\n",
      "4927                                                  Nox\n",
      "Name: Sentence, Length: 4928, dtype: object\n",
      "['0', 'Sentence', '1', 'I', 'shouldve', 'known', 'that', 'you', 'would', 'be', 'here', 'Profes', '...', '2', 'Good', 'evening', 'Professor', 'Dumbledore', '3', 'Are', 'the', 'rumors', 'true', 'Albus', '4', 'Im', 'afraid', 'so', 'professor', '...', '4923', 'How', 'fast', 'is', 'it', 'Harry', '4924', 'Lumos', '4925', 'I', 'solemnly', 'swear', 'that', 'I', 'am', 'up', 'to', 'no', 'good', '4926', 'Mischief', 'managed', '4927', 'Nox', 'Name', ':', 'Sentence', ',', 'Length', ':', '4928', ',', 'dtype', ':', 'object']\n",
      "['0', 'sentenc', '1', 'I', 'shouldv', 'known', 'that', 'you', 'would', 'be', 'here', 'profe', '...', '2', 'good', 'even', 'professor', 'dumbledor', '3', 'are', 'the', 'rumor', 'true', 'albu', '4', 'Im', 'afraid', 'so', 'professor', '...', '4923', 'how', 'fast', 'is', 'it', 'harri', '4924', 'lumo', '4925', 'I', 'solemnli', 'swear', 'that', 'I', 'am', 'up', 'to', 'no', 'good', '4926', 'mischief', 'manag', '4927', 'nox', 'name', ':', 'sentenc', ',', 'length', ':', '4928', ',', 'dtype', ':', 'object']\n",
      "[nltk_data] Downloading package punkt to\n",
      "[nltk_data]     D:\\Users\\kimdu\\AppData\\Roaming\\nltk_data...\n",
      "[nltk_data]   Package punkt is already up-to-date!\n",
      "[nltk_data] Downloading package wordnet to\n",
      "[nltk_data]     D:\\Users\\kimdu\\AppData\\Roaming\\nltk_data...\n",
      "[nltk_data]   Package wordnet is already up-to-date!\n"
     ]
    }
   ],
   "source": [
    "import nltk\n",
    "nltk.download('punkt')\n",
    "nltk.download('wordnet')\n",
    "from nltk import sent_tokenize, word_tokenize\n",
    "from nltk.stem import PorterStemmer\n",
    "from nltk.corpus import stopwords\n",
    "\n",
    "ps=PorterStemmer()\n",
    "\n",
    "harry=pd.read_csv('./data/Harry Potter.csv')\n",
    "print(harry)\n",
    "\n",
    "trainPotter = harry['Sentence'].str.replace('[^a-zA-Z ]', '')\n",
    "print(trainPotter)\n",
    "\n",
    "tokenData = nltk.word_tokenize(str(trainPotter))\n",
    "print(tokenData)\n",
    "\n",
    "stemData=[]\n",
    "for w in tokenData:\n",
    "    tempData=[]\n",
    "    tempData=ps.stem(w)\n",
    "    stemData.append(tempData)\n",
    "    \n",
    "print(stemData)"
   ]
  },
  {
   "cell_type": "code",
   "execution_count": 8,
   "metadata": {},
   "outputs": [
    {
     "output_type": "execute_result",
     "data": {
      "text/plain": [
       "               Character  Sentence\n",
       "Character                         \n",
       "Woman                  1         1\n",
       "Ginny                  1         1\n",
       "Gryffindors            1         1\n",
       "George                 1         1\n",
       "Madam Hooch            1         1\n",
       "...                  ...       ...\n",
       "Ron                    1        83\n",
       "Ron                    1       102\n",
       "Harry                  1       134\n",
       "Hagrid                 1       148\n",
       "Harry                  1       152\n",
       "\n",
       "[91 rows x 2 columns]"
      ],
      "text/html": "<div>\n<style scoped>\n    .dataframe tbody tr th:only-of-type {\n        vertical-align: middle;\n    }\n\n    .dataframe tbody tr th {\n        vertical-align: top;\n    }\n\n    .dataframe thead th {\n        text-align: right;\n    }\n</style>\n<table border=\"1\" class=\"dataframe\">\n  <thead>\n    <tr style=\"text-align: right;\">\n      <th></th>\n      <th>Character</th>\n      <th>Sentence</th>\n    </tr>\n    <tr>\n      <th>Character</th>\n      <th></th>\n      <th></th>\n    </tr>\n  </thead>\n  <tbody>\n    <tr>\n      <th>Woman</th>\n      <td>1</td>\n      <td>1</td>\n    </tr>\n    <tr>\n      <th>Ginny</th>\n      <td>1</td>\n      <td>1</td>\n    </tr>\n    <tr>\n      <th>Gryffindors</th>\n      <td>1</td>\n      <td>1</td>\n    </tr>\n    <tr>\n      <th>George</th>\n      <td>1</td>\n      <td>1</td>\n    </tr>\n    <tr>\n      <th>Madam Hooch</th>\n      <td>1</td>\n      <td>1</td>\n    </tr>\n    <tr>\n      <th>...</th>\n      <td>...</td>\n      <td>...</td>\n    </tr>\n    <tr>\n      <th>Ron</th>\n      <td>1</td>\n      <td>83</td>\n    </tr>\n    <tr>\n      <th>Ron</th>\n      <td>1</td>\n      <td>102</td>\n    </tr>\n    <tr>\n      <th>Harry</th>\n      <td>1</td>\n      <td>134</td>\n    </tr>\n    <tr>\n      <th>Hagrid</th>\n      <td>1</td>\n      <td>148</td>\n    </tr>\n    <tr>\n      <th>Harry</th>\n      <td>1</td>\n      <td>152</td>\n    </tr>\n  </tbody>\n</table>\n<p>91 rows × 2 columns</p>\n</div>"
     },
     "metadata": {},
     "execution_count": 8
    }
   ],
   "source": [
    "harry1.groupby('Character').nunique().sort_values(by='Sentence',ascending='False')"
   ]
  },
  {
   "cell_type": "code",
   "execution_count": 6,
   "metadata": {},
   "outputs": [],
   "source": [
    "# data 정제하기\n",
    "\n",
    "harry1['Sentence'] = harry1['Sentence'].str.replace('[^a-zA-Z ]', '') #알파벳과 공백을 제외하고 모두 제거"
   ]
  },
  {
   "cell_type": "code",
   "execution_count": null,
   "metadata": {},
   "outputs": [],
   "source": []
  }
 ]
}