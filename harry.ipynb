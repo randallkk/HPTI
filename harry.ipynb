{
 "metadata": {
  "language_info": {
   "codemirror_mode": {
    "name": "ipython",
    "version": 3
   },
   "file_extension": ".py",
   "mimetype": "text/x-python",
   "name": "python",
   "nbconvert_exporter": "python",
   "pygments_lexer": "ipython3",
   "version": "3.7.4-final"
  },
  "orig_nbformat": 2,
  "kernelspec": {
   "name": "python3",
   "display_name": "Python 3"
  }
 },
 "nbformat": 4,
 "nbformat_minor": 2,
 "cells": [
  {
   "cell_type": "code",
   "execution_count": 2,
   "metadata": {},
   "outputs": [],
   "source": [
    "import pandas as pd\n",
    "import numpy as np\n",
    "%matplotlib inline\n",
    "import matplotlib.pyplot as plt\n",
    "import re\n",
    "import urllib.request\n",
    "from tensorflow.keras.preprocessing.text import Tokenizer\n",
    "from tensorflow.keras.preprocessing.sequence import pad_sequences"
   ]
  },
  {
   "cell_type": "code",
   "execution_count": 10,
   "metadata": {},
   "outputs": [
    {
     "output_type": "execute_result",
     "data": {
      "text/plain": [
       "     Character                                           Sentence\n",
       "0   Dumbledore  I should've known that you would be here, Prof...\n",
       "1   McGonagall                Good evening, Professor Dumbledore.\n",
       "2   McGonagall                        Are the rumors true, Albus?\n",
       "3   Dumbledore                          I'm afraid so, professor.\n",
       "4   Dumbledore                              The good and the bad.\n",
       "..         ...                                                ...\n",
       "95      Vernon                        Proudest moment of my life.\n",
       "96       Harry                      Will I have to wear that too?\n",
       "97     Petunia                        What? You? Go to Smeltings?\n",
       "98     Petunia                                Don't be so stupid!\n",
       "99     Petunia            You're going to go to the state school.\n",
       "\n",
       "[100 rows x 2 columns]"
      ],
      "text/html": "<div>\n<style scoped>\n    .dataframe tbody tr th:only-of-type {\n        vertical-align: middle;\n    }\n\n    .dataframe tbody tr th {\n        vertical-align: top;\n    }\n\n    .dataframe thead th {\n        text-align: right;\n    }\n</style>\n<table border=\"1\" class=\"dataframe\">\n  <thead>\n    <tr style=\"text-align: right;\">\n      <th></th>\n      <th>Character</th>\n      <th>Sentence</th>\n    </tr>\n  </thead>\n  <tbody>\n    <tr>\n      <th>0</th>\n      <td>Dumbledore</td>\n      <td>I should've known that you would be here, Prof...</td>\n    </tr>\n    <tr>\n      <th>1</th>\n      <td>McGonagall</td>\n      <td>Good evening, Professor Dumbledore.</td>\n    </tr>\n    <tr>\n      <th>2</th>\n      <td>McGonagall</td>\n      <td>Are the rumors true, Albus?</td>\n    </tr>\n    <tr>\n      <th>3</th>\n      <td>Dumbledore</td>\n      <td>I'm afraid so, professor.</td>\n    </tr>\n    <tr>\n      <th>4</th>\n      <td>Dumbledore</td>\n      <td>The good and the bad.</td>\n    </tr>\n    <tr>\n      <th>...</th>\n      <td>...</td>\n      <td>...</td>\n    </tr>\n    <tr>\n      <th>95</th>\n      <td>Vernon</td>\n      <td>Proudest moment of my life.</td>\n    </tr>\n    <tr>\n      <th>96</th>\n      <td>Harry</td>\n      <td>Will I have to wear that too?</td>\n    </tr>\n    <tr>\n      <th>97</th>\n      <td>Petunia</td>\n      <td>What? You? Go to Smeltings?</td>\n    </tr>\n    <tr>\n      <th>98</th>\n      <td>Petunia</td>\n      <td>Don't be so stupid!</td>\n    </tr>\n    <tr>\n      <th>99</th>\n      <td>Petunia</td>\n      <td>You're going to go to the state school.</td>\n    </tr>\n  </tbody>\n</table>\n<p>100 rows × 2 columns</p>\n</div>"
     },
     "metadata": {},
     "execution_count": 10
    }
   ],
   "source": [
    "harry1=pd.read_table('Harry Potter 1.csv',sep=';',encoding='iso-8859-1')\n",
    "harry1[:100]"
   ]
  },
  {
   "cell_type": "code",
   "execution_count": null,
   "metadata": {},
   "outputs": [],
   "source": []
  }
 ]
}