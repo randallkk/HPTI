{
 "metadata": {
  "language_info": {
   "codemirror_mode": {
    "name": "ipython",
    "version": 3
   },
   "file_extension": ".py",
   "mimetype": "text/x-python",
   "name": "python",
   "nbconvert_exporter": "python",
   "pygments_lexer": "ipython3",
   "version": "3.8.3-final"
  },
  "orig_nbformat": 2,
  "kernelspec": {
   "name": "python3",
   "display_name": "Python 3"
  }
 },
 "nbformat": 4,
 "nbformat_minor": 2,
 "cells": [
  {
   "cell_type": "code",
   "execution_count": 1,
   "metadata": {},
   "outputs": [
    {
     "output_type": "stream",
     "name": "stderr",
     "text": [
      "[nltk_data] Downloading package punkt to\n",
      "[nltk_data]     C:\\Users\\User\\AppData\\Roaming\\nltk_data...\n",
      "[nltk_data]   Package punkt is already up-to-date!\n",
      "[nltk_data] Downloading package wordnet to\n",
      "[nltk_data]     C:\\Users\\User\\AppData\\Roaming\\nltk_data...\n",
      "[nltk_data]   Package wordnet is already up-to-date!\n",
      "['0', 'httpwwwyoutubecomwatchvqsxhcwekrwhttpmediatumb', '...', '1', 'Im', 'find', 'the', 'lack', 'of', 'me', 'in', 'these', 'post', 'veri', '...', '2', 'good', 'one', 'httpswwwyoutubecomwatchvfhigbolff', '...', '3', 'dear', 'intp', 'I', 'enjoy', 'our', 'convers', 'the', 'oth', '...', '4', 'your', 'firedthat', 'anoth', 'silli', 'misconcept', 'T', '...', '...', '8670', 'httpswwwyoutubecomwatchvtedhbhixfp', 'just', 'becau', '...', '8671', 'soif', 'thi', 'thread', 'alreadi', 'exist', 'someplac', 'els', '...', '8672', 'So', 'mani', 'question', 'when', 'i', 'do', 'these', 'thing', 'I', 'wo', '...', '8673', 'I', 'am', 'veri', 'conflict', 'right', 'now', 'when', 'it', 'come', 't', '...', '8674', 'It', 'ha', 'been', 'too', 'long', 'sinc', 'I', 'have', 'been', 'on', 'per', '...', 'name', ':', 'post', ',', 'length', ':', '8675', ',', 'dtype', ':', 'object']\n"
     ]
    }
   ],
   "source": [
    "import nltk\n",
    "nltk.download('punkt')\n",
    "nltk.download('wordnet')\n",
    "from nltk import sent_tokenize, word_tokenize\n",
    "from nltk.stem import PorterStemmer\n",
    "from nltk.corpus import stopwords\n",
    "import pandas as pd\n",
    "import numpy as np\n",
    "import re  \n",
    "import glob\n",
    "import os\n",
    "\n",
    "ps=PorterStemmer()\n",
    "mbti=pd.read_csv('./data/mbti_1.csv')\n",
    "\n",
    "\n",
    "cleanMbti = mbti['posts'].str.replace('[^A-Za-z\\s]+', '')\n",
    "tokenData = nltk.word_tokenize(str(cleanMbti))\n",
    "\n",
    "\n",
    "stemData=[]\n",
    "for w in tokenData:\n",
    "    tempData=[]\n",
    "    tempData=ps.stem(w)\n",
    "    stemData.append(tempData)\n",
    "\n",
    "\n",
    "print(stemData)\n"
   ]
  }
 ]
}