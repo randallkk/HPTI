{
 "metadata": {
  "language_info": {
   "codemirror_mode": {
    "name": "ipython",
    "version": 3
   },
   "file_extension": ".py",
   "mimetype": "text/x-python",
   "name": "python",
   "nbconvert_exporter": "python",
   "pygments_lexer": "ipython3",
   "version": "3.7.4-final"
  },
  "orig_nbformat": 2,
  "kernelspec": {
   "name": "python3",
   "display_name": "Python 3"
  }
 },
 "nbformat": 4,
 "nbformat_minor": 2,
 "cells": [
  {
   "cell_type": "code",
   "execution_count": 3,
   "metadata": {},
   "outputs": [],
   "source": [
    "import os\n",
    "import pandas as pd\n",
    "import numpy as np\n",
    "#%matplotlib inline\n",
    "#import matplotlib.pyplot as plt\n",
    "import re\n",
    "import urllib.request\n",
    "#from tensorflow.keras.preprocessing.sequence import pad_sequences"
   ]
  },
  {
   "source": [
    "# Read all the needed datasets\n",
    "dataset들 읽고 합치기"
   ],
   "cell_type": "markdown",
   "metadata": {}
  },
  {
   "cell_type": "code",
   "execution_count": 4,
   "metadata": {},
   "outputs": [
    {
     "output_type": "execute_result",
     "data": {
      "text/plain": [
       "       Character                                           Sentence\n",
       "0     Dumbledore  I should've known that you would be here, Prof...\n",
       "1     McGonagall                Good evening, Professor Dumbledore.\n",
       "2     McGonagall                        Are the rumors true, Albus?\n",
       "3     Dumbledore                          I'm afraid so, professor.\n",
       "4     Dumbledore                              The good and the bad.\n",
       "...          ...                                                ...\n",
       "4920    HERMIONE                             How fast is it, Harry?\n",
       "4921       HARRY                                             Lumos.\n",
       "4922       HARRY          I solemnly swear that I am up to no good.\n",
       "4923       HARRY                                  Mischief managed.\n",
       "4924       HARRY                                               Nox.\n",
       "\n",
       "[4925 rows x 2 columns]"
      ],
      "text/html": "<div>\n<style scoped>\n    .dataframe tbody tr th:only-of-type {\n        vertical-align: middle;\n    }\n\n    .dataframe tbody tr th {\n        vertical-align: top;\n    }\n\n    .dataframe thead th {\n        text-align: right;\n    }\n</style>\n<table border=\"1\" class=\"dataframe\">\n  <thead>\n    <tr style=\"text-align: right;\">\n      <th></th>\n      <th>Character</th>\n      <th>Sentence</th>\n    </tr>\n  </thead>\n  <tbody>\n    <tr>\n      <th>0</th>\n      <td>Dumbledore</td>\n      <td>I should've known that you would be here, Prof...</td>\n    </tr>\n    <tr>\n      <th>1</th>\n      <td>McGonagall</td>\n      <td>Good evening, Professor Dumbledore.</td>\n    </tr>\n    <tr>\n      <th>2</th>\n      <td>McGonagall</td>\n      <td>Are the rumors true, Albus?</td>\n    </tr>\n    <tr>\n      <th>3</th>\n      <td>Dumbledore</td>\n      <td>I'm afraid so, professor.</td>\n    </tr>\n    <tr>\n      <th>4</th>\n      <td>Dumbledore</td>\n      <td>The good and the bad.</td>\n    </tr>\n    <tr>\n      <th>...</th>\n      <td>...</td>\n      <td>...</td>\n    </tr>\n    <tr>\n      <th>4920</th>\n      <td>HERMIONE</td>\n      <td>How fast is it, Harry?</td>\n    </tr>\n    <tr>\n      <th>4921</th>\n      <td>HARRY</td>\n      <td>Lumos.</td>\n    </tr>\n    <tr>\n      <th>4922</th>\n      <td>HARRY</td>\n      <td>I solemnly swear that I am up to no good.</td>\n    </tr>\n    <tr>\n      <th>4923</th>\n      <td>HARRY</td>\n      <td>Mischief managed.</td>\n    </tr>\n    <tr>\n      <th>4924</th>\n      <td>HARRY</td>\n      <td>Nox.</td>\n    </tr>\n  </tbody>\n</table>\n<p>4925 rows × 2 columns</p>\n</div>"
     },
     "metadata": {},
     "execution_count": 4
    }
   ],
   "source": [
    "import glob\n",
    "\n",
    "input_file = r'.\\data' # csv파일들이 있는 디렉토리 위치\n",
    "output_file = r'.\\data\\Harry Potter.csv' # 병합하고 저장하려는 파일명\n",
    "\n",
    "allFile_list = glob.glob(os.path.join(input_file, 'Harry Potter *')) # glob함수로 sales_로 시작하는 파일들을 모은다\n",
    "allData = [] # 읽어 들인 csv파일 내용을 저장할 빈 리스트를 하나 만든다\n",
    "for file in allFile_list:\n",
    "    df = pd.read_csv(file,sep=';', encoding='iso-8859-1') # for구문으로 csv파일들을 읽어 들인다\n",
    "    df.columns = ['Character','Sentence'] # index를 Character, Sentence로 맞춘다.\n",
    "    allData.append(df) # 빈 리스트에 읽어 들인 내용을 추가한다\n",
    "dataCombine = pd.concat(allData, axis=0, ignore_index=True) # 리스트의 내용을 수직으로 병합. ignore_index=True는 인데스 값이 기존 순서를 무시하고 순서대로 정렬되도록 한다.\n",
    "dataCombine.to_csv(output_file, index=False) # to_csv함수로 저장한다. 인데스를 빼려면 False로 설정\n",
    "\n",
    "harry=pd.read_csv('./data/Harry Potter.csv')\n",
    "harry"
   ]
  },
  {
   "source": [
    "# 등장인물 별 대사 모으기"
   ],
   "cell_type": "markdown",
   "metadata": {}
  },
  {
   "cell_type": "code",
   "execution_count": 5,
   "metadata": {},
   "outputs": [],
   "source": [
    "# 등장인물의 이름이 unifying하지 않아서 전부 대문자로 바꿔주기\n",
    "harry['Character'] = harry['Character'].str.upper()\n",
    "# Character 별로 대사 개수 순으로 나열해서 가장 많은 5명 뽑기: groupby(묶어서), count(개수 세고), sort(나열하고), [-5:](뒤에서부터 5개)\n",
    "selected = harry.groupby('Character').count().sort_values(by='Sentence')[-5:]   # Groupby의 label이었던 Character가 index가 된다.\n",
    "topfive = [character for character in selected.index]   # 대사가 가장 많은 5명의 리스트 (역순)\n",
    "\n",
    "for character in topfive:\n",
    "    condition = harry['Character'] == character # condition: harry['Character']가 topfive의 원소인 character와 같을 bool 조건\n",
    "    ownsentence = harry[condition]  # ownsentence: condition에 맞는 row만 filtering한 dataframe\n",
    "    output_file = '.\\data\\\\test\\\\HP_'+character+'.csv' # raw string이 아니라 '\\'를 쓰려면 \\\\라고 해야 함\n",
    "    ownsentence.to_csv(output_file, index=False)    # data\\test\\HP_(등장인물이름).csv 파일로 저장"
   ]
  },
  {
   "source": [
    "# Stemming\n",
    "morph analysis 기법."
   ],
   "cell_type": "markdown",
   "metadata": {}
  },
  {
   "cell_type": "code",
   "execution_count": 6,
   "metadata": {},
   "outputs": [
    {
     "output_type": "stream",
     "name": "stderr",
     "text": [
      "[nltk_data] Downloading package punkt to\n",
      "[nltk_data]     D:\\Users\\kimdu\\AppData\\Roaming\\nltk_data...\n",
      "[nltk_data]   Package punkt is already up-to-date!\n",
      "[nltk_data] Downloading package wordnet to\n",
      "[nltk_data]     D:\\Users\\kimdu\\AppData\\Roaming\\nltk_data...\n",
      "[nltk_data]   Package wordnet is already up-to-date!\n",
      "['.\\\\data\\\\\\\\test\\\\HP_DUMBLEDORE.csv', '.\\\\data\\\\\\\\test\\\\HP_HAGRID.csv', '.\\\\data\\\\\\\\test\\\\HP_HARRY.csv', '.\\\\data\\\\\\\\test\\\\HP_HERMIONE.csv', '.\\\\data\\\\\\\\test\\\\HP_RON.csv']\n",
      "{'DUMBLEDORE': ['0', 'I', 'shouldv', 'known', 'that', 'you', 'would', 'be', 'here', 'profe', '...', '1', 'Im', 'afraid', 'so', 'professor', '2', 'the', 'good', 'and', 'the', 'bad', '3', 'hagrid', 'is', 'bring', 'him', '4', 'Ah', 'professor', 'I', 'would', 'trust', 'hagrid', 'with', 'my', 'life', '...', '206', 'Oh', 'execution', 'your', 'servic', 'are', 'no', 'longer', 'req', '...', '207', 'thank', 'you', '208', 'well', '209', 'did', 'what', '210', 'good', 'night', 'name', ':', 'sentenc', ',', 'length', ':', '211', ',', 'dtype', ':', 'object'], 'HAGRID': ['0', 'professor', 'dumbledor', 'sir', '1', 'professor', 'mcgonagal', '2', 'No', 'sir', '3', 'littl', 'tyke', 'fell', 'asleep', 'just', 'as', 'we', 'were', 'fli', '...', '4', 'tri', 'not', 'to', 'wake', 'him', '...', '323', 'buckbeak', 'didnt', 'mean', 'no', 'harm', '324', 'keep', 'a', 'closer', 'eye', 'on', 'your', 'pet', '325', 'buckbeak', '326', 'right', '327', 'youll', 'find', 'no', 'small', 'glass', 'in', 'thi', 'hous', 'prof', '...', 'name', ':', 'sentenc', ',', 'length', ':', '328', ',', 'dtype', ':', 'object'], 'HARRY': ['0', 'ye', 'aunt', 'petunia', '1', 'ye', 'uncl', 'vernon', '2', 'he', 'asleep', '3', 'sorri', 'about', 'him', '4', 'He', 'doesnt', 'understand', 'what', 'it', 'like', 'lie', 'there', '...', '...', '826', 'but', 'who', 'sent', 'it', '827', 'lumo', '828', 'I', 'solemnli', 'swear', 'that', 'I', 'am', 'up', 'to', 'no', 'good', '829', 'mischief', 'manag', '830', 'nox', 'name', ':', 'sentenc', ',', 'length', ':', '831', ',', 'dtype', ':', 'object'], 'HERMIONE': ['0', 'ha', 'anyon', 'seen', 'a', 'toad', '1', 'A', 'boy', 'name', 'nevil', 'lost', 'one', '2', 'Oh', 'are', 'you', 'do', 'magic', '3', 'let', 'see', 'then', '4', 'are', 'you', 'sure', 'that', 'a', 'real', 'spell', '...', '379', 'bombarda', '380', 'We', 'have', 'to', 'go', '381', 'what', 'he', 'talk', 'about', 'harri', '382', 'thi', 'came', 'with', 'it', '383', 'how', 'fast', 'is', 'it', 'harri', 'name', ':', 'sentenc', ',', 'length', ':', '384', ',', 'dtype', ':', 'object'], 'RON': ['0', 'excus', 'me', 'Do', 'you', 'mind', '1', 'everywher', 'els', 'is', 'full', '2', 'Im', 'ron', 'by', 'the', 'way', '3', 'ron', 'weasley', '4', 'So', 'it', 'true', '...', '395', 'let', 'the', 'man', 'through', '396', 'I', 'didnt', 'mean', 'to', 'open', 'it', 'harri', '397', 'It', 'wa', 'badli', 'wrap', '398', 'they', 'made', 'me', 'do', 'it', '399', 'No', 'one', 'know', 'name', ':', 'sentenc', ',', 'length', ':', '400', ',', 'dtype', ':', 'object']}\n"
     ]
    }
   ],
   "source": [
    "import nltk\n",
    "nltk.download('punkt')\n",
    "nltk.download('wordnet')\n",
    "from nltk import sent_tokenize, word_tokenize\n",
    "from nltk.stem import PorterStemmer\n",
    "from nltk.corpus import stopwords\n",
    "\n",
    "\n",
    "import glob \n",
    "\n",
    "stemmer=PorterStemmer()  \n",
    "\n",
    "bag_of_words = {} #{등장인물 : 해당인물의 stemData, ~}\n",
    "stemData = []\n",
    "input_file = r'.\\data\\\\test\\\\'\n",
    "\n",
    "allHPfile_list = glob.glob(os.path.join(input_file, 'HP_*'))\n",
    "print(allHPfile_list)\n",
    "\n",
    "for file in allHPfile_list:\n",
    "    df = pd.read_csv(file, sep=',', encoding='iso-8859-1')\n",
    "    #print(df)\n",
    "    c_df = df['Sentence'].str.replace('[^a-zA-Z ]' ,'')\n",
    "    tokenData = nltk.word_tokenize(str(c_df))\n",
    "\n",
    "    for w in tokenData:\n",
    "        tempData=[]\n",
    "        tempData=stemmer.stem(w)\n",
    "        stemData.append(tempData)\n",
    "    bag_of_words[df['Character'][0]] = stemData\n",
    "    stemData=[]\n",
    "print(bag_of_words)"
   ]
  },
  {
   "cell_type": "code",
   "execution_count": null,
   "metadata": {},
   "outputs": [],
   "source": []
  }
 ]
}