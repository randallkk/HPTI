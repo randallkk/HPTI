{
 "metadata": {
  "language_info": {
   "codemirror_mode": {
    "name": "ipython",
    "version": 3
   },
   "file_extension": ".py",
   "mimetype": "text/x-python",
   "name": "python",
   "nbconvert_exporter": "python",
   "pygments_lexer": "ipython3",
   "version": "3.7.4-final"
  },
  "orig_nbformat": 2,
  "kernelspec": {
   "name": "python3",
   "display_name": "Python 3"
  }
 },
 "nbformat": 4,
 "nbformat_minor": 2,
 "cells": [
  {
   "source": [
    "# Garbage Collection\n",
    "Vectorization 뒤쪽에 넣어주세요. <br>\n",
    "한 번 지워지고 나서 다시 돌리면 NameError: name '변수명' is not defined 라는 error가 뜨는데 그럼 그냥 주석처리 하고 돌리시면 됩니다.<br>\n",
    "그렇게 도움이 안 될 수도 있지만 안하는 것보단 나을테니까...... 흑흑"
   ],
   "cell_type": "markdown",
   "metadata": {}
  },
  {
   "cell_type": "code",
   "execution_count": null,
   "metadata": {},
   "outputs": [],
   "source": [
    "import psutil\n",
    "# import os\n",
    "# import gc"
   ]
  },
  {
   "cell_type": "code",
   "execution_count": 1,
   "metadata": {},
   "outputs": [
    {
     "output_type": "error",
     "ename": "NameError",
     "evalue": "name 'dataCombine' is not defined",
     "traceback": [
      "\u001b[1;31m---------------------------------------------------------------------------\u001b[0m",
      "\u001b[1;31mNameError\u001b[0m                                 Traceback (most recent call last)",
      "\u001b[1;32m<ipython-input-1-49d2ecf3ec09>\u001b[0m in \u001b[0;36m<module>\u001b[1;34m\u001b[0m\n\u001b[1;32m----> 1\u001b[1;33m \u001b[1;32mdel\u001b[0m \u001b[1;33m[\u001b[0m\u001b[1;33m[\u001b[0m\u001b[0mdataCombine\u001b[0m\u001b[1;33m]\u001b[0m\u001b[1;33m]\u001b[0m\u001b[1;33m\u001b[0m\u001b[1;33m\u001b[0m\u001b[0m\n\u001b[0m\u001b[0;32m      2\u001b[0m \u001b[1;33m\u001b[0m\u001b[0m\n\u001b[0;32m      3\u001b[0m \u001b[1;34m'''del [condition]'''\u001b[0m\u001b[1;33m\u001b[0m\u001b[1;33m\u001b[0m\u001b[0m\n\u001b[0;32m      4\u001b[0m \u001b[1;33m\u001b[0m\u001b[0m\n\u001b[0;32m      5\u001b[0m '''for ownsentence in allData:\n",
      "\u001b[1;31mNameError\u001b[0m: name 'dataCombine' is not defined"
     ]
    }
   ],
   "source": [
    "'''del [[dataCombine]]'''\n",
    "\n",
    "'''del [condition]'''\n",
    "\n",
    "'''for ownsentence in allData:\n",
    "    del ownsentence\n",
    "del allData'''\n",
    "\n",
    "'''for tokenData in tokenizedData:   # delete 'stemData'\n",
    "    for data in tokenData:\n",
    "        del data\n",
    "    del tokenData\n",
    "del tokenizedData'''\n",
    "\n",
    "'''for clean_sentence in normalized_text:\n",
    "    del clean_sentence\n",
    "del normalized_text'''\n",
    "\n",
    "'''del X_data'''\n",
    "\n",
    "'''for component in y_data:\n",
    "    del component\n",
    "del y_data'''\n",
    "\n",
    "'''for data in stemData:   # delete 'stemData'\n",
    "    for component in data:\n",
    "        del component\n",
    "    del data\n",
    "del stemData'''\n",
    "gc.collect()"
   ]
  },
  {
   "cell_type": "code",
   "execution_count": null,
   "metadata": {},
   "outputs": [],
   "source": []
  }
 ]
}